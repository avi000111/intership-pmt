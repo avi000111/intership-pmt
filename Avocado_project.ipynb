{
 "cells": [
  {
   "cell_type": "markdown",
   "id": "524b9834",
   "metadata": {},
   "source": [
    "# Avacado Project\n"
   ]
  },
  {
   "cell_type": "markdown",
   "id": "bc4bde29",
   "metadata": {},
   "source": [
    "# Problem Statement:\n"
   ]
  },
  {
   "cell_type": "raw",
   "id": "84f6a374",
   "metadata": {},
   "source": [
    ".Avocado is a fruit consumed by people heavily in the United States.\n",
    "\n"
   ]
  },
  {
   "cell_type": "markdown",
   "id": "fcc6f0f6",
   "metadata": {},
   "source": [
    "# Content\n"
   ]
  },
  {
   "cell_type": "raw",
   "id": "05876bc4",
   "metadata": {},
   "source": [
    "This data was downloaded from the Hass Avocado Board website in May of 2018 & compiled into a single CSV.\n",
    "\n",
    "The table below represents weekly 2018 retail scan data for National retail volume (units) and price. Retail scan data comes directly from retailers’ cash registers based on actual retail sales of Hass avocados.\n",
    "\n",
    "Starting in 2013, the table below reflects an expanded, multi-outlet retail data set. Multi-outlet reporting includes an aggregation of the following channels: grocery, mass, club, drug, dollar and military. The Average Price (of avocados) in the table reflects a per unit (per avocado) cost, even when multiple units (avocados) are sold in bags.\n",
    "\n",
    "The Product Lookup codes (PLU’s) in the table are only for Hass avocados. Other varieties of avocados (e.g. greenskins) are not included in this table.\n",
    "\n"
   ]
  },
  {
   "cell_type": "markdown",
   "id": "e41a74e7",
   "metadata": {},
   "source": [
    "# Columns in the dataset:\n"
   ]
  },
  {
   "cell_type": "raw",
   "id": "e67bd606",
   "metadata": {},
   "source": [
    "Date - The date of the observation\n",
    "\n",
    "AveragePrice - the average price of a single avocado\n",
    "\n",
    "type - conventional or organic\n",
    "\n",
    "year - the year\n",
    "\n",
    "Region - the city or region of the observation\n",
    "\n",
    "Total Volume - Total number of avocados sold\n",
    "\n",
    "4046 - Total number of avocados with PLU 4046 sold\n",
    "\n",
    "4225 - Total number of avocados with PLU 4225 sold\n",
    "\n",
    "4770 - Total number of avocados with PLU 4770 sold\n",
    "\n",
    "Task :-\n",
    "\n",
    "To make a model that can consider the data provided and predict the Average Price.\n",
    "\n"
   ]
  },
  {
   "cell_type": "markdown",
   "id": "0cab075c",
   "metadata": {},
   "source": [
    "# Importing the required libraries\n"
   ]
  },
  {
   "cell_type": "code",
   "execution_count": 2,
   "id": "d8899803",
   "metadata": {},
   "outputs": [],
   "source": [
    "import pandas as pd\n",
    "import numpy as np\n",
    "import seaborn as sns\n",
    "import matplotlib.pyplot as plt\n",
    "import scipy.stats\n",
    "from scipy.stats import zscore\n",
    "import seaborn as sns\n",
    "import sklearn\n",
    "from sklearn import preprocessing\n",
    "from sklearn.linear_model import LinearRegression\n",
    "from sklearn.linear_model import LogisticRegression\n",
    "from sklearn.metrics import accuracy_score\n",
    "from sklearn.metrics import confusion_matrix,classification_report\n",
    "from sklearn.model_selection import train_test_split\n",
    "import warnings\n",
    "warnings.filterwarnings('ignore')\n"
   ]
  },
  {
   "cell_type": "markdown",
   "id": "f99c4507",
   "metadata": {},
   "source": [
    "# Renaming & Calling the dataframe\n"
   ]
  },
  {
   "cell_type": "code",
   "execution_count": 3,
   "id": "95843cdf",
   "metadata": {},
   "outputs": [
    {
     "data": {
      "text/html": [
       "<div>\n",
       "<style scoped>\n",
       "    .dataframe tbody tr th:only-of-type {\n",
       "        vertical-align: middle;\n",
       "    }\n",
       "\n",
       "    .dataframe tbody tr th {\n",
       "        vertical-align: top;\n",
       "    }\n",
       "\n",
       "    .dataframe thead th {\n",
       "        text-align: right;\n",
       "    }\n",
       "</style>\n",
       "<table border=\"1\" class=\"dataframe\">\n",
       "  <thead>\n",
       "    <tr style=\"text-align: right;\">\n",
       "      <th></th>\n",
       "      <th>Serial no</th>\n",
       "      <th>Date</th>\n",
       "      <th>AveragePrice</th>\n",
       "      <th>Total Volume</th>\n",
       "      <th>4046</th>\n",
       "      <th>4225</th>\n",
       "      <th>4770</th>\n",
       "      <th>Total Bags</th>\n",
       "      <th>Small Bags</th>\n",
       "      <th>Large Bags</th>\n",
       "      <th>XLarge Bags</th>\n",
       "      <th>type</th>\n",
       "      <th>year</th>\n",
       "      <th>region</th>\n",
       "    </tr>\n",
       "  </thead>\n",
       "  <tbody>\n",
       "    <tr>\n",
       "      <th>0</th>\n",
       "      <td>0</td>\n",
       "      <td>27-12-2015</td>\n",
       "      <td>1.33</td>\n",
       "      <td>64236.62</td>\n",
       "      <td>1036.74</td>\n",
       "      <td>54454.85</td>\n",
       "      <td>48.16</td>\n",
       "      <td>8696.87</td>\n",
       "      <td>8603.62</td>\n",
       "      <td>93.25</td>\n",
       "      <td>0.0</td>\n",
       "      <td>conventional</td>\n",
       "      <td>2015</td>\n",
       "      <td>Albany</td>\n",
       "    </tr>\n",
       "    <tr>\n",
       "      <th>1</th>\n",
       "      <td>1</td>\n",
       "      <td>20-12-2015</td>\n",
       "      <td>1.35</td>\n",
       "      <td>54876.98</td>\n",
       "      <td>674.28</td>\n",
       "      <td>44638.81</td>\n",
       "      <td>58.33</td>\n",
       "      <td>9505.56</td>\n",
       "      <td>9408.07</td>\n",
       "      <td>97.49</td>\n",
       "      <td>0.0</td>\n",
       "      <td>conventional</td>\n",
       "      <td>2015</td>\n",
       "      <td>Albany</td>\n",
       "    </tr>\n",
       "    <tr>\n",
       "      <th>2</th>\n",
       "      <td>2</td>\n",
       "      <td>13-12-2015</td>\n",
       "      <td>0.93</td>\n",
       "      <td>118220.22</td>\n",
       "      <td>794.70</td>\n",
       "      <td>109149.67</td>\n",
       "      <td>130.50</td>\n",
       "      <td>8145.35</td>\n",
       "      <td>8042.21</td>\n",
       "      <td>103.14</td>\n",
       "      <td>0.0</td>\n",
       "      <td>conventional</td>\n",
       "      <td>2015</td>\n",
       "      <td>Albany</td>\n",
       "    </tr>\n",
       "    <tr>\n",
       "      <th>3</th>\n",
       "      <td>3</td>\n",
       "      <td>06-12-2015</td>\n",
       "      <td>1.08</td>\n",
       "      <td>78992.15</td>\n",
       "      <td>1132.00</td>\n",
       "      <td>71976.41</td>\n",
       "      <td>72.58</td>\n",
       "      <td>5811.16</td>\n",
       "      <td>5677.40</td>\n",
       "      <td>133.76</td>\n",
       "      <td>0.0</td>\n",
       "      <td>conventional</td>\n",
       "      <td>2015</td>\n",
       "      <td>Albany</td>\n",
       "    </tr>\n",
       "    <tr>\n",
       "      <th>4</th>\n",
       "      <td>4</td>\n",
       "      <td>29-11-2015</td>\n",
       "      <td>1.28</td>\n",
       "      <td>51039.60</td>\n",
       "      <td>941.48</td>\n",
       "      <td>43838.39</td>\n",
       "      <td>75.78</td>\n",
       "      <td>6183.95</td>\n",
       "      <td>5986.26</td>\n",
       "      <td>197.69</td>\n",
       "      <td>0.0</td>\n",
       "      <td>conventional</td>\n",
       "      <td>2015</td>\n",
       "      <td>Albany</td>\n",
       "    </tr>\n",
       "    <tr>\n",
       "      <th>...</th>\n",
       "      <td>...</td>\n",
       "      <td>...</td>\n",
       "      <td>...</td>\n",
       "      <td>...</td>\n",
       "      <td>...</td>\n",
       "      <td>...</td>\n",
       "      <td>...</td>\n",
       "      <td>...</td>\n",
       "      <td>...</td>\n",
       "      <td>...</td>\n",
       "      <td>...</td>\n",
       "      <td>...</td>\n",
       "      <td>...</td>\n",
       "      <td>...</td>\n",
       "    </tr>\n",
       "    <tr>\n",
       "      <th>18244</th>\n",
       "      <td>7</td>\n",
       "      <td>04-02-2018</td>\n",
       "      <td>1.63</td>\n",
       "      <td>17074.83</td>\n",
       "      <td>2046.96</td>\n",
       "      <td>1529.20</td>\n",
       "      <td>0.00</td>\n",
       "      <td>13498.67</td>\n",
       "      <td>13066.82</td>\n",
       "      <td>431.85</td>\n",
       "      <td>0.0</td>\n",
       "      <td>organic</td>\n",
       "      <td>2018</td>\n",
       "      <td>WestTexNewMexico</td>\n",
       "    </tr>\n",
       "    <tr>\n",
       "      <th>18245</th>\n",
       "      <td>8</td>\n",
       "      <td>28-01-2018</td>\n",
       "      <td>1.71</td>\n",
       "      <td>13888.04</td>\n",
       "      <td>1191.70</td>\n",
       "      <td>3431.50</td>\n",
       "      <td>0.00</td>\n",
       "      <td>9264.84</td>\n",
       "      <td>8940.04</td>\n",
       "      <td>324.80</td>\n",
       "      <td>0.0</td>\n",
       "      <td>organic</td>\n",
       "      <td>2018</td>\n",
       "      <td>WestTexNewMexico</td>\n",
       "    </tr>\n",
       "    <tr>\n",
       "      <th>18246</th>\n",
       "      <td>9</td>\n",
       "      <td>21-01-2018</td>\n",
       "      <td>1.87</td>\n",
       "      <td>13766.76</td>\n",
       "      <td>1191.92</td>\n",
       "      <td>2452.79</td>\n",
       "      <td>727.94</td>\n",
       "      <td>9394.11</td>\n",
       "      <td>9351.80</td>\n",
       "      <td>42.31</td>\n",
       "      <td>0.0</td>\n",
       "      <td>organic</td>\n",
       "      <td>2018</td>\n",
       "      <td>WestTexNewMexico</td>\n",
       "    </tr>\n",
       "    <tr>\n",
       "      <th>18247</th>\n",
       "      <td>10</td>\n",
       "      <td>14-01-2018</td>\n",
       "      <td>1.93</td>\n",
       "      <td>16205.22</td>\n",
       "      <td>1527.63</td>\n",
       "      <td>2981.04</td>\n",
       "      <td>727.01</td>\n",
       "      <td>10969.54</td>\n",
       "      <td>10919.54</td>\n",
       "      <td>50.00</td>\n",
       "      <td>0.0</td>\n",
       "      <td>organic</td>\n",
       "      <td>2018</td>\n",
       "      <td>WestTexNewMexico</td>\n",
       "    </tr>\n",
       "    <tr>\n",
       "      <th>18248</th>\n",
       "      <td>11</td>\n",
       "      <td>07-01-2018</td>\n",
       "      <td>1.62</td>\n",
       "      <td>17489.58</td>\n",
       "      <td>2894.77</td>\n",
       "      <td>2356.13</td>\n",
       "      <td>224.53</td>\n",
       "      <td>12014.15</td>\n",
       "      <td>11988.14</td>\n",
       "      <td>26.01</td>\n",
       "      <td>0.0</td>\n",
       "      <td>organic</td>\n",
       "      <td>2018</td>\n",
       "      <td>WestTexNewMexico</td>\n",
       "    </tr>\n",
       "  </tbody>\n",
       "</table>\n",
       "<p>18249 rows × 14 columns</p>\n",
       "</div>"
      ],
      "text/plain": [
       "       Serial no        Date  AveragePrice  Total Volume     4046       4225  \\\n",
       "0              0  27-12-2015          1.33      64236.62  1036.74   54454.85   \n",
       "1              1  20-12-2015          1.35      54876.98   674.28   44638.81   \n",
       "2              2  13-12-2015          0.93     118220.22   794.70  109149.67   \n",
       "3              3  06-12-2015          1.08      78992.15  1132.00   71976.41   \n",
       "4              4  29-11-2015          1.28      51039.60   941.48   43838.39   \n",
       "...          ...         ...           ...           ...      ...        ...   \n",
       "18244          7  04-02-2018          1.63      17074.83  2046.96    1529.20   \n",
       "18245          8  28-01-2018          1.71      13888.04  1191.70    3431.50   \n",
       "18246          9  21-01-2018          1.87      13766.76  1191.92    2452.79   \n",
       "18247         10  14-01-2018          1.93      16205.22  1527.63    2981.04   \n",
       "18248         11  07-01-2018          1.62      17489.58  2894.77    2356.13   \n",
       "\n",
       "         4770  Total Bags  Small Bags  Large Bags  XLarge Bags          type  \\\n",
       "0       48.16     8696.87     8603.62       93.25          0.0  conventional   \n",
       "1       58.33     9505.56     9408.07       97.49          0.0  conventional   \n",
       "2      130.50     8145.35     8042.21      103.14          0.0  conventional   \n",
       "3       72.58     5811.16     5677.40      133.76          0.0  conventional   \n",
       "4       75.78     6183.95     5986.26      197.69          0.0  conventional   \n",
       "...       ...         ...         ...         ...          ...           ...   \n",
       "18244    0.00    13498.67    13066.82      431.85          0.0       organic   \n",
       "18245    0.00     9264.84     8940.04      324.80          0.0       organic   \n",
       "18246  727.94     9394.11     9351.80       42.31          0.0       organic   \n",
       "18247  727.01    10969.54    10919.54       50.00          0.0       organic   \n",
       "18248  224.53    12014.15    11988.14       26.01          0.0       organic   \n",
       "\n",
       "       year            region  \n",
       "0      2015            Albany  \n",
       "1      2015            Albany  \n",
       "2      2015            Albany  \n",
       "3      2015            Albany  \n",
       "4      2015            Albany  \n",
       "...     ...               ...  \n",
       "18244  2018  WestTexNewMexico  \n",
       "18245  2018  WestTexNewMexico  \n",
       "18246  2018  WestTexNewMexico  \n",
       "18247  2018  WestTexNewMexico  \n",
       "18248  2018  WestTexNewMexico  \n",
       "\n",
       "[18249 rows x 14 columns]"
      ]
     },
     "execution_count": 3,
     "metadata": {},
     "output_type": "execute_result"
    }
   ],
   "source": [
    "df=pd.read_csv('C:\\\\Users\\\\admin\\\\Downloads\\\\avocado.csv')\n",
    "df \n"
   ]
  },
  {
   "cell_type": "markdown",
   "id": "5e80ffa4",
   "metadata": {},
   "source": [
    "# Renaming the columns with numeric names\n"
   ]
  },
  {
   "cell_type": "code",
   "execution_count": 4,
   "id": "d1a56b4a",
   "metadata": {},
   "outputs": [
    {
     "data": {
      "text/html": [
       "<div>\n",
       "<style scoped>\n",
       "    .dataframe tbody tr th:only-of-type {\n",
       "        vertical-align: middle;\n",
       "    }\n",
       "\n",
       "    .dataframe tbody tr th {\n",
       "        vertical-align: top;\n",
       "    }\n",
       "\n",
       "    .dataframe thead th {\n",
       "        text-align: right;\n",
       "    }\n",
       "</style>\n",
       "<table border=\"1\" class=\"dataframe\">\n",
       "  <thead>\n",
       "    <tr style=\"text-align: right;\">\n",
       "      <th></th>\n",
       "      <th>Date</th>\n",
       "      <th>AveragePrice</th>\n",
       "      <th>Total Volume</th>\n",
       "      <th>Small Hass</th>\n",
       "      <th>Large Hass</th>\n",
       "      <th>XLarge Hass</th>\n",
       "      <th>Total Bags</th>\n",
       "      <th>Small Bags</th>\n",
       "      <th>Large Bags</th>\n",
       "      <th>XLarge Bags</th>\n",
       "      <th>type</th>\n",
       "      <th>year</th>\n",
       "      <th>region</th>\n",
       "    </tr>\n",
       "  </thead>\n",
       "  <tbody>\n",
       "    <tr>\n",
       "      <th>0</th>\n",
       "      <td>27-12-2015</td>\n",
       "      <td>1.33</td>\n",
       "      <td>64236.62</td>\n",
       "      <td>1036.74</td>\n",
       "      <td>54454.85</td>\n",
       "      <td>48.16</td>\n",
       "      <td>8696.87</td>\n",
       "      <td>8603.62</td>\n",
       "      <td>93.25</td>\n",
       "      <td>0.0</td>\n",
       "      <td>conventional</td>\n",
       "      <td>2015</td>\n",
       "      <td>Albany</td>\n",
       "    </tr>\n",
       "    <tr>\n",
       "      <th>1</th>\n",
       "      <td>20-12-2015</td>\n",
       "      <td>1.35</td>\n",
       "      <td>54876.98</td>\n",
       "      <td>674.28</td>\n",
       "      <td>44638.81</td>\n",
       "      <td>58.33</td>\n",
       "      <td>9505.56</td>\n",
       "      <td>9408.07</td>\n",
       "      <td>97.49</td>\n",
       "      <td>0.0</td>\n",
       "      <td>conventional</td>\n",
       "      <td>2015</td>\n",
       "      <td>Albany</td>\n",
       "    </tr>\n",
       "    <tr>\n",
       "      <th>2</th>\n",
       "      <td>13-12-2015</td>\n",
       "      <td>0.93</td>\n",
       "      <td>118220.22</td>\n",
       "      <td>794.70</td>\n",
       "      <td>109149.67</td>\n",
       "      <td>130.50</td>\n",
       "      <td>8145.35</td>\n",
       "      <td>8042.21</td>\n",
       "      <td>103.14</td>\n",
       "      <td>0.0</td>\n",
       "      <td>conventional</td>\n",
       "      <td>2015</td>\n",
       "      <td>Albany</td>\n",
       "    </tr>\n",
       "    <tr>\n",
       "      <th>3</th>\n",
       "      <td>06-12-2015</td>\n",
       "      <td>1.08</td>\n",
       "      <td>78992.15</td>\n",
       "      <td>1132.00</td>\n",
       "      <td>71976.41</td>\n",
       "      <td>72.58</td>\n",
       "      <td>5811.16</td>\n",
       "      <td>5677.40</td>\n",
       "      <td>133.76</td>\n",
       "      <td>0.0</td>\n",
       "      <td>conventional</td>\n",
       "      <td>2015</td>\n",
       "      <td>Albany</td>\n",
       "    </tr>\n",
       "    <tr>\n",
       "      <th>4</th>\n",
       "      <td>29-11-2015</td>\n",
       "      <td>1.28</td>\n",
       "      <td>51039.60</td>\n",
       "      <td>941.48</td>\n",
       "      <td>43838.39</td>\n",
       "      <td>75.78</td>\n",
       "      <td>6183.95</td>\n",
       "      <td>5986.26</td>\n",
       "      <td>197.69</td>\n",
       "      <td>0.0</td>\n",
       "      <td>conventional</td>\n",
       "      <td>2015</td>\n",
       "      <td>Albany</td>\n",
       "    </tr>\n",
       "  </tbody>\n",
       "</table>\n",
       "</div>"
      ],
      "text/plain": [
       "         Date  AveragePrice  Total Volume  Small Hass  Large Hass  \\\n",
       "0  27-12-2015          1.33      64236.62     1036.74    54454.85   \n",
       "1  20-12-2015          1.35      54876.98      674.28    44638.81   \n",
       "2  13-12-2015          0.93     118220.22      794.70   109149.67   \n",
       "3  06-12-2015          1.08      78992.15     1132.00    71976.41   \n",
       "4  29-11-2015          1.28      51039.60      941.48    43838.39   \n",
       "\n",
       "   XLarge Hass  Total Bags  Small Bags  Large Bags  XLarge Bags          type  \\\n",
       "0        48.16     8696.87     8603.62       93.25          0.0  conventional   \n",
       "1        58.33     9505.56     9408.07       97.49          0.0  conventional   \n",
       "2       130.50     8145.35     8042.21      103.14          0.0  conventional   \n",
       "3        72.58     5811.16     5677.40      133.76          0.0  conventional   \n",
       "4        75.78     6183.95     5986.26      197.69          0.0  conventional   \n",
       "\n",
       "   year  region  \n",
       "0  2015  Albany  \n",
       "1  2015  Albany  \n",
       "2  2015  Albany  \n",
       "3  2015  Albany  \n",
       "4  2015  Albany  "
      ]
     },
     "execution_count": 4,
     "metadata": {},
     "output_type": "execute_result"
    }
   ],
   "source": [
    "df= df.rename(index=str, columns={\"4046\" : \"Small Hass\", \"4225\" : \"Large Hass\", \"4770\" : \"XLarge Hass\"})\n",
    "df=df.drop('Serial no',axis=1)\n",
    "df.head()\n"
   ]
  },
  {
   "cell_type": "markdown",
   "id": "8fadd4df",
   "metadata": {},
   "source": [
    "# Extracting the dataset informations\n"
   ]
  },
  {
   "cell_type": "code",
   "execution_count": 5,
   "id": "bc02ac30",
   "metadata": {},
   "outputs": [
    {
     "name": "stdout",
     "output_type": "stream",
     "text": [
      "<class 'pandas.core.frame.DataFrame'>\n",
      "Index: 18249 entries, 0 to 18248\n",
      "Data columns (total 13 columns):\n",
      " #   Column        Non-Null Count  Dtype  \n",
      "---  ------        --------------  -----  \n",
      " 0   Date          18249 non-null  object \n",
      " 1   AveragePrice  18249 non-null  float64\n",
      " 2   Total Volume  18249 non-null  float64\n",
      " 3   Small Hass    18249 non-null  float64\n",
      " 4   Large Hass    18249 non-null  float64\n",
      " 5   XLarge Hass   18249 non-null  float64\n",
      " 6   Total Bags    18249 non-null  float64\n",
      " 7   Small Bags    18249 non-null  float64\n",
      " 8   Large Bags    18249 non-null  float64\n",
      " 9   XLarge Bags   18249 non-null  float64\n",
      " 10  type          18249 non-null  object \n",
      " 11  year          18249 non-null  int64  \n",
      " 12  region        18249 non-null  object \n",
      "dtypes: float64(9), int64(1), object(3)\n",
      "memory usage: 1.9+ MB\n"
     ]
    }
   ],
   "source": [
    "df.info()\n"
   ]
  },
  {
   "cell_type": "raw",
   "id": "25b1d09a",
   "metadata": {},
   "source": [
    "The dataframe has 14 no of coumns from 0 to 14 originally.\n",
    "The dataframe has data types as object and float.\n",
    "The dataframe has non-null values.\n",
    "The dataframe has occupied 1.8+ MB of space on the system it refers.\n"
   ]
  },
  {
   "cell_type": "markdown",
   "id": "7a02f3f5",
   "metadata": {},
   "source": [
    "# Checking the data shape\n"
   ]
  },
  {
   "cell_type": "code",
   "execution_count": 6,
   "id": "fa953340",
   "metadata": {},
   "outputs": [
    {
     "data": {
      "text/plain": [
       "(18249, 13)"
      ]
     },
     "execution_count": 6,
     "metadata": {},
     "output_type": "execute_result"
    }
   ],
   "source": [
    "df.shape\n"
   ]
  },
  {
   "cell_type": "raw",
   "id": "e8ad4cd4",
   "metadata": {},
   "source": [
    "The dataframe has 18249 number of rows and 14 number of columns originally.\n"
   ]
  },
  {
   "cell_type": "markdown",
   "id": "c027f251",
   "metadata": {},
   "source": [
    "# Obtaining the column names inolved in our dataset.\n"
   ]
  },
  {
   "cell_type": "code",
   "execution_count": 7,
   "id": "14f4c02f",
   "metadata": {},
   "outputs": [
    {
     "data": {
      "text/plain": [
       "Index(['Date', 'AveragePrice', 'Total Volume', 'Small Hass', 'Large Hass',\n",
       "       'XLarge Hass', 'Total Bags', 'Small Bags', 'Large Bags', 'XLarge Bags',\n",
       "       'type', 'year', 'region'],\n",
       "      dtype='object')"
      ]
     },
     "execution_count": 7,
     "metadata": {},
     "output_type": "execute_result"
    }
   ],
   "source": [
    "df.columns\n"
   ]
  },
  {
   "cell_type": "markdown",
   "id": "ad1c85be",
   "metadata": {},
   "source": [
    "# Checking the null values , if there's any\n"
   ]
  },
  {
   "cell_type": "code",
   "execution_count": 8,
   "id": "b2b9f7b9",
   "metadata": {},
   "outputs": [
    {
     "data": {
      "text/plain": [
       "Date            0\n",
       "AveragePrice    0\n",
       "Total Volume    0\n",
       "Small Hass      0\n",
       "Large Hass      0\n",
       "XLarge Hass     0\n",
       "Total Bags      0\n",
       "Small Bags      0\n",
       "Large Bags      0\n",
       "XLarge Bags     0\n",
       "type            0\n",
       "year            0\n",
       "region          0\n",
       "dtype: int64"
      ]
     },
     "execution_count": 8,
     "metadata": {},
     "output_type": "execute_result"
    }
   ],
   "source": [
    "df.isnull().sum()\n"
   ]
  },
  {
   "cell_type": "raw",
   "id": "d1a257ee",
   "metadata": {},
   "source": [
    "There are no null-values in the dataset.\n"
   ]
  },
  {
   "cell_type": "markdown",
   "id": "99b60045",
   "metadata": {},
   "source": [
    "# Checking the no of values per column\n"
   ]
  },
  {
   "cell_type": "code",
   "execution_count": 9,
   "id": "0ab5e779",
   "metadata": {},
   "outputs": [
    {
     "data": {
      "text/plain": [
       "Date            18249\n",
       "AveragePrice    18249\n",
       "Total Volume    18249\n",
       "Small Hass      18249\n",
       "Large Hass      18249\n",
       "XLarge Hass     18249\n",
       "Total Bags      18249\n",
       "Small Bags      18249\n",
       "Large Bags      18249\n",
       "XLarge Bags     18249\n",
       "type            18249\n",
       "year            18249\n",
       "region          18249\n",
       "dtype: int64"
      ]
     },
     "execution_count": 9,
     "metadata": {},
     "output_type": "execute_result"
    }
   ],
   "source": [
    "df.notnull().sum()\n"
   ]
  },
  {
   "cell_type": "raw",
   "id": "74dbbd85",
   "metadata": {},
   "source": [
    "There are total 18249 values in each column,the dataset is distributed uniformly.\n"
   ]
  },
  {
   "cell_type": "markdown",
   "id": "bd81dcb1",
   "metadata": {},
   "source": [
    "# Checking the null-values through visualisation heatmap\n"
   ]
  },
  {
   "cell_type": "code",
   "execution_count": 10,
   "id": "1b849e88",
   "metadata": {},
   "outputs": [
    {
     "data": {
      "image/png": "[encoded data removed]",
      "text/plain": [
       "<Figure size 640x480 with 2 Axes>"
      ]
     },
     "metadata": {},
     "output_type": "display_data"
    }
   ],
   "source": [
    "sns.heatmap(df.isnull())\n",
    "plt.title('Null-Values')\n",
    "plt.show()\n"
   ]
  },
  {
   "cell_type": "raw",
   "id": "6ef29ac9",
   "metadata": {},
   "source": [
    "The graph indicates there are no null-values in the entire dataset.\n"
   ]
  },
  {
   "cell_type": "markdown",
   "id": "d1ec6fa1",
   "metadata": {},
   "source": [
    "# Checking duplicate values\n"
   ]
  },
  {
   "cell_type": "code",
   "execution_count": 11,
   "id": "8d9c4b11",
   "metadata": {},
   "outputs": [
    {
     "data": {
      "text/plain": [
       "0        False\n",
       "1        False\n",
       "2        False\n",
       "3        False\n",
       "4        False\n",
       "         ...  \n",
       "18244    False\n",
       "18245    False\n",
       "18246    False\n",
       "18247    False\n",
       "18248    False\n",
       "Length: 18249, dtype: bool"
      ]
     },
     "execution_count": 11,
     "metadata": {},
     "output_type": "execute_result"
    }
   ],
   "source": [
    "df.duplicated()\n"
   ]
  },
  {
   "cell_type": "markdown",
   "id": "a0388d43",
   "metadata": {},
   "source": [
    "# Correcting date format\n"
   ]
  },
  {
   "cell_type": "code",
   "execution_count": 12,
   "id": "7e4166b4",
   "metadata": {},
   "outputs": [
    {
     "data": {
      "text/html": [
       "<div>\n",
       "<style scoped>\n",
       "    .dataframe tbody tr th:only-of-type {\n",
       "        vertical-align: middle;\n",
       "    }\n",
       "\n",
       "    .dataframe tbody tr th {\n",
       "        vertical-align: top;\n",
       "    }\n",
       "\n",
       "    .dataframe thead th {\n",
       "        text-align: right;\n",
       "    }\n",
       "</style>\n",
       "<table border=\"1\" class=\"dataframe\">\n",
       "  <thead>\n",
       "    <tr style=\"text-align: right;\">\n",
       "      <th></th>\n",
       "      <th>Date</th>\n",
       "      <th>AveragePrice</th>\n",
       "      <th>Total Volume</th>\n",
       "      <th>Small Hass</th>\n",
       "      <th>Large Hass</th>\n",
       "      <th>XLarge Hass</th>\n",
       "      <th>Total Bags</th>\n",
       "      <th>Small Bags</th>\n",
       "      <th>Large Bags</th>\n",
       "      <th>XLarge Bags</th>\n",
       "      <th>type</th>\n",
       "      <th>year</th>\n",
       "      <th>region</th>\n",
       "      <th>Month</th>\n",
       "    </tr>\n",
       "  </thead>\n",
       "  <tbody>\n",
       "    <tr>\n",
       "      <th>0</th>\n",
       "      <td>27-12-2015</td>\n",
       "      <td>1.33</td>\n",
       "      <td>64236.62</td>\n",
       "      <td>1036.74</td>\n",
       "      <td>54454.85</td>\n",
       "      <td>48.16</td>\n",
       "      <td>8696.87</td>\n",
       "      <td>8603.62</td>\n",
       "      <td>93.25</td>\n",
       "      <td>0.0</td>\n",
       "      <td>conventional</td>\n",
       "      <td>2015</td>\n",
       "      <td>Albany</td>\n",
       "      <td>12</td>\n",
       "    </tr>\n",
       "    <tr>\n",
       "      <th>1</th>\n",
       "      <td>20-12-2015</td>\n",
       "      <td>1.35</td>\n",
       "      <td>54876.98</td>\n",
       "      <td>674.28</td>\n",
       "      <td>44638.81</td>\n",
       "      <td>58.33</td>\n",
       "      <td>9505.56</td>\n",
       "      <td>9408.07</td>\n",
       "      <td>97.49</td>\n",
       "      <td>0.0</td>\n",
       "      <td>conventional</td>\n",
       "      <td>2015</td>\n",
       "      <td>Albany</td>\n",
       "      <td>12</td>\n",
       "    </tr>\n",
       "    <tr>\n",
       "      <th>2</th>\n",
       "      <td>13-12-2015</td>\n",
       "      <td>0.93</td>\n",
       "      <td>118220.22</td>\n",
       "      <td>794.70</td>\n",
       "      <td>109149.67</td>\n",
       "      <td>130.50</td>\n",
       "      <td>8145.35</td>\n",
       "      <td>8042.21</td>\n",
       "      <td>103.14</td>\n",
       "      <td>0.0</td>\n",
       "      <td>conventional</td>\n",
       "      <td>2015</td>\n",
       "      <td>Albany</td>\n",
       "      <td>12</td>\n",
       "    </tr>\n",
       "    <tr>\n",
       "      <th>3</th>\n",
       "      <td>06-12-2015</td>\n",
       "      <td>1.08</td>\n",
       "      <td>78992.15</td>\n",
       "      <td>1132.00</td>\n",
       "      <td>71976.41</td>\n",
       "      <td>72.58</td>\n",
       "      <td>5811.16</td>\n",
       "      <td>5677.40</td>\n",
       "      <td>133.76</td>\n",
       "      <td>0.0</td>\n",
       "      <td>conventional</td>\n",
       "      <td>2015</td>\n",
       "      <td>Albany</td>\n",
       "      <td>6</td>\n",
       "    </tr>\n",
       "    <tr>\n",
       "      <th>4</th>\n",
       "      <td>29-11-2015</td>\n",
       "      <td>1.28</td>\n",
       "      <td>51039.60</td>\n",
       "      <td>941.48</td>\n",
       "      <td>43838.39</td>\n",
       "      <td>75.78</td>\n",
       "      <td>6183.95</td>\n",
       "      <td>5986.26</td>\n",
       "      <td>197.69</td>\n",
       "      <td>0.0</td>\n",
       "      <td>conventional</td>\n",
       "      <td>2015</td>\n",
       "      <td>Albany</td>\n",
       "      <td>11</td>\n",
       "    </tr>\n",
       "  </tbody>\n",
       "</table>\n",
       "</div>"
      ],
      "text/plain": [
       "         Date  AveragePrice  Total Volume  Small Hass  Large Hass  \\\n",
       "0  27-12-2015          1.33      64236.62     1036.74    54454.85   \n",
       "1  20-12-2015          1.35      54876.98      674.28    44638.81   \n",
       "2  13-12-2015          0.93     118220.22      794.70   109149.67   \n",
       "3  06-12-2015          1.08      78992.15     1132.00    71976.41   \n",
       "4  29-11-2015          1.28      51039.60      941.48    43838.39   \n",
       "\n",
       "   XLarge Hass  Total Bags  Small Bags  Large Bags  XLarge Bags          type  \\\n",
       "0        48.16     8696.87     8603.62       93.25          0.0  conventional   \n",
       "1        58.33     9505.56     9408.07       97.49          0.0  conventional   \n",
       "2       130.50     8145.35     8042.21      103.14          0.0  conventional   \n",
       "3        72.58     5811.16     5677.40      133.76          0.0  conventional   \n",
       "4        75.78     6183.95     5986.26      197.69          0.0  conventional   \n",
       "\n",
       "   year  region  Month  \n",
       "0  2015  Albany     12  \n",
       "1  2015  Albany     12  \n",
       "2  2015  Albany     12  \n",
       "3  2015  Albany      6  \n",
       "4  2015  Albany     11  "
      ]
     },
     "execution_count": 12,
     "metadata": {},
     "output_type": "execute_result"
    }
   ],
   "source": [
    "df['Month'] = pd.DatetimeIndex(df['Date']).month\n",
    "df.head()\n"
   ]
  },
  {
   "cell_type": "markdown",
   "id": "d351a105",
   "metadata": {},
   "source": [
    "# Checking unique values in categorical data columns\n"
   ]
  },
  {
   "cell_type": "code",
   "execution_count": 13,
   "id": "326e2472",
   "metadata": {},
   "outputs": [
    {
     "data": {
      "text/plain": [
       "array(['conventional', 'organic'], dtype=object)"
      ]
     },
     "execution_count": 13,
     "metadata": {},
     "output_type": "execute_result"
    }
   ],
   "source": [
    "df.type.unique()\n"
   ]
  },
  {
   "cell_type": "code",
   "execution_count": 14,
   "id": "2849e78d",
   "metadata": {},
   "outputs": [
    {
     "data": {
      "text/plain": [
       "array([2015, 2016, 2017, 2018], dtype=int64)"
      ]
     },
     "execution_count": 14,
     "metadata": {},
     "output_type": "execute_result"
    }
   ],
   "source": [
    "df.year.unique()\n"
   ]
  },
  {
   "cell_type": "code",
   "execution_count": 15,
   "id": "e10ffff8",
   "metadata": {},
   "outputs": [
    {
     "data": {
      "text/plain": [
       "array(['Albany', 'Atlanta', 'BaltimoreWashington', 'Boise', 'Boston',\n",
       "       'BuffaloRochester', 'California', 'Charlotte', 'Chicago',\n",
       "       'CincinnatiDayton', 'Columbus', 'DallasFtWorth', 'Denver',\n",
       "       'Detroit', 'GrandRapids', 'GreatLakes', 'HarrisburgScranton',\n",
       "       'HartfordSpringfield', 'Houston', 'Indianapolis', 'Jacksonville',\n",
       "       'LasVegas', 'LosAngeles', 'Louisville', 'MiamiFtLauderdale',\n",
       "       'Midsouth', 'Nashville', 'NewOrleansMobile', 'NewYork',\n",
       "       'Northeast', 'NorthernNewEngland', 'Orlando', 'Philadelphia',\n",
       "       'PhoenixTucson', 'Pittsburgh', 'Plains', 'Portland',\n",
       "       'RaleighGreensboro', 'RichmondNorfolk', 'Roanoke', 'Sacramento',\n",
       "       'SanDiego', 'SanFrancisco', 'Seattle', 'SouthCarolina',\n",
       "       'SouthCentral', 'Southeast', 'Spokane', 'StLouis', 'Syracuse',\n",
       "       'Tampa', 'TotalUS', 'West', 'WestTexNewMexico'], dtype=object)"
      ]
     },
     "execution_count": 15,
     "metadata": {},
     "output_type": "execute_result"
    }
   ],
   "source": [
    "df.region.unique()\n"
   ]
  },
  {
   "cell_type": "code",
   "execution_count": 16,
   "id": "2810bb37",
   "metadata": {},
   "outputs": [
    {
     "data": {
      "text/plain": [
       "array([12,  6, 11,  8,  1, 10,  4,  9,  2,  7,  5,  3], dtype=int64)"
      ]
     },
     "execution_count": 16,
     "metadata": {},
     "output_type": "execute_result"
    }
   ],
   "source": [
    "df.Month.unique()\n"
   ]
  },
  {
   "cell_type": "code",
   "execution_count": 17,
   "id": "d194ef64",
   "metadata": {},
   "outputs": [
    {
     "data": {
      "text/plain": [
       "array([  0.  ,  33.33, 104.17, ..., 228.27,  12.12,  24.18])"
      ]
     },
     "execution_count": 17,
     "metadata": {},
     "output_type": "execute_result"
    }
   ],
   "source": [
    "df['XLarge Bags'].unique()\n"
   ]
  },
  {
   "cell_type": "markdown",
   "id": "8d92c950",
   "metadata": {},
   "source": [
    "# Average price\n"
   ]
  },
  {
   "cell_type": "code",
   "execution_count": 18,
   "id": "35ef7de4",
   "metadata": {},
   "outputs": [
    {
     "name": "stdout",
     "output_type": "stream",
     "text": [
      "1.405978409775878\n",
      "0.44\n",
      "3.25\n"
     ]
    }
   ],
   "source": [
    "print(df[\"AveragePrice\"].mean())\n",
    "print(df[\"AveragePrice\"].min())\n",
    "print(df[\"AveragePrice\"].max())\n"
   ]
  },
  {
   "cell_type": "code",
   "execution_count": 19,
   "id": "53238142",
   "metadata": {},
   "outputs": [
    {
     "data": {
      "text/html": [
       "<div>\n",
       "<style scoped>\n",
       "    .dataframe tbody tr th:only-of-type {\n",
       "        vertical-align: middle;\n",
       "    }\n",
       "\n",
       "    .dataframe tbody tr th {\n",
       "        vertical-align: top;\n",
       "    }\n",
       "\n",
       "    .dataframe thead th {\n",
       "        text-align: right;\n",
       "    }\n",
       "</style>\n",
       "<table border=\"1\" class=\"dataframe\">\n",
       "  <thead>\n",
       "    <tr style=\"text-align: right;\">\n",
       "      <th></th>\n",
       "      <th>Date</th>\n",
       "      <th>AveragePrice</th>\n",
       "      <th>Total Volume</th>\n",
       "      <th>Small Hass</th>\n",
       "      <th>Large Hass</th>\n",
       "      <th>XLarge Hass</th>\n",
       "      <th>Total Bags</th>\n",
       "      <th>Small Bags</th>\n",
       "      <th>Large Bags</th>\n",
       "      <th>XLarge Bags</th>\n",
       "      <th>type</th>\n",
       "      <th>year</th>\n",
       "      <th>region</th>\n",
       "      <th>Month</th>\n",
       "    </tr>\n",
       "  </thead>\n",
       "  <tbody>\n",
       "    <tr>\n",
       "      <th>13037</th>\n",
       "      <td>02-10-2016</td>\n",
       "      <td>3.03</td>\n",
       "      <td>3714.71</td>\n",
       "      <td>296.71</td>\n",
       "      <td>2699.80</td>\n",
       "      <td>0.00</td>\n",
       "      <td>718.20</td>\n",
       "      <td>718.20</td>\n",
       "      <td>0.00</td>\n",
       "      <td>0.0</td>\n",
       "      <td>organic</td>\n",
       "      <td>2016</td>\n",
       "      <td>LasVegas</td>\n",
       "      <td>2</td>\n",
       "    </tr>\n",
       "    <tr>\n",
       "      <th>14124</th>\n",
       "      <td>06-11-2016</td>\n",
       "      <td>3.12</td>\n",
       "      <td>19043.80</td>\n",
       "      <td>5898.49</td>\n",
       "      <td>10039.34</td>\n",
       "      <td>0.00</td>\n",
       "      <td>3105.97</td>\n",
       "      <td>3079.30</td>\n",
       "      <td>26.67</td>\n",
       "      <td>0.0</td>\n",
       "      <td>organic</td>\n",
       "      <td>2016</td>\n",
       "      <td>SanFrancisco</td>\n",
       "      <td>6</td>\n",
       "    </tr>\n",
       "    <tr>\n",
       "      <th>14125</th>\n",
       "      <td>30-10-2016</td>\n",
       "      <td>3.25</td>\n",
       "      <td>16700.94</td>\n",
       "      <td>2325.93</td>\n",
       "      <td>11142.85</td>\n",
       "      <td>0.00</td>\n",
       "      <td>3232.16</td>\n",
       "      <td>3232.16</td>\n",
       "      <td>0.00</td>\n",
       "      <td>0.0</td>\n",
       "      <td>organic</td>\n",
       "      <td>2016</td>\n",
       "      <td>SanFrancisco</td>\n",
       "      <td>10</td>\n",
       "    </tr>\n",
       "    <tr>\n",
       "      <th>16055</th>\n",
       "      <td>12-03-2017</td>\n",
       "      <td>3.05</td>\n",
       "      <td>2068.26</td>\n",
       "      <td>1043.83</td>\n",
       "      <td>77.36</td>\n",
       "      <td>0.00</td>\n",
       "      <td>947.07</td>\n",
       "      <td>926.67</td>\n",
       "      <td>20.40</td>\n",
       "      <td>0.0</td>\n",
       "      <td>organic</td>\n",
       "      <td>2017</td>\n",
       "      <td>MiamiFtLauderdale</td>\n",
       "      <td>12</td>\n",
       "    </tr>\n",
       "    <tr>\n",
       "      <th>16720</th>\n",
       "      <td>27-08-2017</td>\n",
       "      <td>3.04</td>\n",
       "      <td>12656.32</td>\n",
       "      <td>419.06</td>\n",
       "      <td>4851.90</td>\n",
       "      <td>145.09</td>\n",
       "      <td>7240.27</td>\n",
       "      <td>6960.97</td>\n",
       "      <td>279.30</td>\n",
       "      <td>0.0</td>\n",
       "      <td>organic</td>\n",
       "      <td>2017</td>\n",
       "      <td>RaleighGreensboro</td>\n",
       "      <td>8</td>\n",
       "    </tr>\n",
       "    <tr>\n",
       "      <th>17428</th>\n",
       "      <td>16-04-2017</td>\n",
       "      <td>3.17</td>\n",
       "      <td>3018.56</td>\n",
       "      <td>1255.55</td>\n",
       "      <td>82.31</td>\n",
       "      <td>0.00</td>\n",
       "      <td>1680.70</td>\n",
       "      <td>1542.22</td>\n",
       "      <td>138.48</td>\n",
       "      <td>0.0</td>\n",
       "      <td>organic</td>\n",
       "      <td>2017</td>\n",
       "      <td>Tampa</td>\n",
       "      <td>4</td>\n",
       "    </tr>\n",
       "  </tbody>\n",
       "</table>\n",
       "</div>"
      ],
      "text/plain": [
       "             Date  AveragePrice  Total Volume  Small Hass  Large Hass  \\\n",
       "13037  02-10-2016          3.03       3714.71      296.71     2699.80   \n",
       "14124  06-11-2016          3.12      19043.80     5898.49    10039.34   \n",
       "14125  30-10-2016          3.25      16700.94     2325.93    11142.85   \n",
       "16055  12-03-2017          3.05       2068.26     1043.83       77.36   \n",
       "16720  27-08-2017          3.04      12656.32      419.06     4851.90   \n",
       "17428  16-04-2017          3.17       3018.56     1255.55       82.31   \n",
       "\n",
       "       XLarge Hass  Total Bags  Small Bags  Large Bags  XLarge Bags     type  \\\n",
       "13037         0.00      718.20      718.20        0.00          0.0  organic   \n",
       "14124         0.00     3105.97     3079.30       26.67          0.0  organic   \n",
       "14125         0.00     3232.16     3232.16        0.00          0.0  organic   \n",
       "16055         0.00      947.07      926.67       20.40          0.0  organic   \n",
       "16720       145.09     7240.27     6960.97      279.30          0.0  organic   \n",
       "17428         0.00     1680.70     1542.22      138.48          0.0  organic   \n",
       "\n",
       "       year             region  Month  \n",
       "13037  2016           LasVegas      2  \n",
       "14124  2016       SanFrancisco      6  \n",
       "14125  2016       SanFrancisco     10  \n",
       "16055  2017  MiamiFtLauderdale     12  \n",
       "16720  2017  RaleighGreensboro      8  \n",
       "17428  2017              Tampa      4  "
      ]
     },
     "execution_count": 19,
     "metadata": {},
     "output_type": "execute_result"
    }
   ],
   "source": [
    "df[df[\"AveragePrice\"] > 3.0]\n"
   ]
  },
  {
   "cell_type": "raw",
   "id": "0dd3a2a3",
   "metadata": {},
   "source": [
    "There were 5 region where Organic Avocados were sold expensive in comparison to the average price for over-all countries.\n",
    "Those 5 regions are - LasVegas ,SanFrancisco, Miami FT Lauderdale , Raleigh Greensboro and Tampa.\n"
   ]
  },
  {
   "cell_type": "markdown",
   "id": "42ee72a9",
   "metadata": {},
   "source": [
    "# Graphical Representation of the dataframe\n"
   ]
  },
  {
   "cell_type": "code",
   "execution_count": 20,
   "id": "5be8369c",
   "metadata": {},
   "outputs": [
    {
     "data": {
      "text/html": [
       "<div>\n",
       "<style scoped>\n",
       "    .dataframe tbody tr th:only-of-type {\n",
       "        vertical-align: middle;\n",
       "    }\n",
       "\n",
       "    .dataframe tbody tr th {\n",
       "        vertical-align: top;\n",
       "    }\n",
       "\n",
       "    .dataframe thead th {\n",
       "        text-align: right;\n",
       "    }\n",
       "</style>\n",
       "<table border=\"1\" class=\"dataframe\">\n",
       "  <thead>\n",
       "    <tr style=\"text-align: right;\">\n",
       "      <th></th>\n",
       "      <th>type</th>\n",
       "      <th>year</th>\n",
       "      <th>region</th>\n",
       "      <th>Month</th>\n",
       "    </tr>\n",
       "  </thead>\n",
       "  <tbody>\n",
       "    <tr>\n",
       "      <th>0</th>\n",
       "      <td>conventional</td>\n",
       "      <td>2015</td>\n",
       "      <td>Albany</td>\n",
       "      <td>12</td>\n",
       "    </tr>\n",
       "    <tr>\n",
       "      <th>1</th>\n",
       "      <td>conventional</td>\n",
       "      <td>2015</td>\n",
       "      <td>Albany</td>\n",
       "      <td>12</td>\n",
       "    </tr>\n",
       "    <tr>\n",
       "      <th>2</th>\n",
       "      <td>conventional</td>\n",
       "      <td>2015</td>\n",
       "      <td>Albany</td>\n",
       "      <td>12</td>\n",
       "    </tr>\n",
       "    <tr>\n",
       "      <th>3</th>\n",
       "      <td>conventional</td>\n",
       "      <td>2015</td>\n",
       "      <td>Albany</td>\n",
       "      <td>6</td>\n",
       "    </tr>\n",
       "    <tr>\n",
       "      <th>4</th>\n",
       "      <td>conventional</td>\n",
       "      <td>2015</td>\n",
       "      <td>Albany</td>\n",
       "      <td>11</td>\n",
       "    </tr>\n",
       "    <tr>\n",
       "      <th>...</th>\n",
       "      <td>...</td>\n",
       "      <td>...</td>\n",
       "      <td>...</td>\n",
       "      <td>...</td>\n",
       "    </tr>\n",
       "    <tr>\n",
       "      <th>18244</th>\n",
       "      <td>organic</td>\n",
       "      <td>2018</td>\n",
       "      <td>WestTexNewMexico</td>\n",
       "      <td>4</td>\n",
       "    </tr>\n",
       "    <tr>\n",
       "      <th>18245</th>\n",
       "      <td>organic</td>\n",
       "      <td>2018</td>\n",
       "      <td>WestTexNewMexico</td>\n",
       "      <td>1</td>\n",
       "    </tr>\n",
       "    <tr>\n",
       "      <th>18246</th>\n",
       "      <td>organic</td>\n",
       "      <td>2018</td>\n",
       "      <td>WestTexNewMexico</td>\n",
       "      <td>1</td>\n",
       "    </tr>\n",
       "    <tr>\n",
       "      <th>18247</th>\n",
       "      <td>organic</td>\n",
       "      <td>2018</td>\n",
       "      <td>WestTexNewMexico</td>\n",
       "      <td>1</td>\n",
       "    </tr>\n",
       "    <tr>\n",
       "      <th>18248</th>\n",
       "      <td>organic</td>\n",
       "      <td>2018</td>\n",
       "      <td>WestTexNewMexico</td>\n",
       "      <td>7</td>\n",
       "    </tr>\n",
       "  </tbody>\n",
       "</table>\n",
       "<p>18249 rows × 4 columns</p>\n",
       "</div>"
      ],
      "text/plain": [
       "               type  year            region  Month\n",
       "0      conventional  2015            Albany     12\n",
       "1      conventional  2015            Albany     12\n",
       "2      conventional  2015            Albany     12\n",
       "3      conventional  2015            Albany      6\n",
       "4      conventional  2015            Albany     11\n",
       "...             ...   ...               ...    ...\n",
       "18244       organic  2018  WestTexNewMexico      4\n",
       "18245       organic  2018  WestTexNewMexico      1\n",
       "18246       organic  2018  WestTexNewMexico      1\n",
       "18247       organic  2018  WestTexNewMexico      1\n",
       "18248       organic  2018  WestTexNewMexico      7\n",
       "\n",
       "[18249 rows x 4 columns]"
      ]
     },
     "execution_count": 20,
     "metadata": {},
     "output_type": "execute_result"
    }
   ],
   "source": [
    "df_visualization_nominal=df[['type','year','region','Month']].copy()\n",
    "df_visualization_nominal\n"
   ]
  },
  {
   "cell_type": "code",
   "execution_count": 21,
   "id": "6069fb79",
   "metadata": {},
   "outputs": [
    {
     "name": "stdout",
     "output_type": "stream",
     "text": [
      "conventional    9126\n",
      "organic         9123\n",
      "Name: type, dtype: int64\n"
     ]
    },
    {
     "data": {
      "image/png": "[encoded data removed]",
      "text/plain": [
       "<Figure size 640x480 with 1 Axes>"
      ]
     },
     "metadata": {},
     "output_type": "display_data"
    }
   ],
   "source": [
    "ax=sns.countplot(x='type',data=df_visualization_nominal)\n",
    "print(df_visualization_nominal['type'].value_counts())\n"
   ]
  },
  {
   "cell_type": "raw",
   "id": "8e63b67a",
   "metadata": {},
   "source": [
    "the graph shows there equal no of both types of avocadoes.\n"
   ]
  },
  {
   "cell_type": "code",
   "execution_count": 22,
   "id": "814cfd2a",
   "metadata": {},
   "outputs": [
    {
     "name": "stdout",
     "output_type": "stream",
     "text": [
      "2017    5722\n",
      "2016    5616\n",
      "2015    5615\n",
      "2018    1296\n",
      "Name: year, dtype: int64\n"
     ]
    },
    {
     "data": {
      "image/png": "[encoded data removed]",
      "text/plain": [
       "<Figure size 640x480 with 1 Axes>"
      ]
     },
     "metadata": {},
     "output_type": "display_data"
    }
   ],
   "source": [
    "ax=sns.countplot(x='year',data=df_visualization_nominal)\n",
    "print(df_visualization_nominal['year'].value_counts())\n"
   ]
  },
  {
   "cell_type": "raw",
   "id": "c36cfbe5",
   "metadata": {},
   "source": [
    "the graph shows that in year 2018 sale of avocadoes was really low.\n"
   ]
  },
  {
   "cell_type": "code",
   "execution_count": 23,
   "id": "8ddd6cf3",
   "metadata": {},
   "outputs": [
    {
     "name": "stdout",
     "output_type": "stream",
     "text": [
      "Albany                 338\n",
      "Sacramento             338\n",
      "Northeast              338\n",
      "NorthernNewEngland     338\n",
      "Orlando                338\n",
      "Philadelphia           338\n",
      "PhoenixTucson          338\n",
      "Pittsburgh             338\n",
      "Plains                 338\n",
      "Portland               338\n",
      "RaleighGreensboro      338\n",
      "RichmondNorfolk        338\n",
      "Roanoke                338\n",
      "SanDiego               338\n",
      "Atlanta                338\n",
      "SanFrancisco           338\n",
      "Seattle                338\n",
      "SouthCarolina          338\n",
      "SouthCentral           338\n",
      "Southeast              338\n",
      "Spokane                338\n",
      "StLouis                338\n",
      "Syracuse               338\n",
      "Tampa                  338\n",
      "TotalUS                338\n",
      "West                   338\n",
      "NewYork                338\n",
      "NewOrleansMobile       338\n",
      "Nashville              338\n",
      "Midsouth               338\n",
      "BaltimoreWashington    338\n",
      "Boise                  338\n",
      "Boston                 338\n",
      "BuffaloRochester       338\n",
      "California             338\n",
      "Charlotte              338\n",
      "Chicago                338\n",
      "CincinnatiDayton       338\n",
      "Columbus               338\n",
      "DallasFtWorth          338\n",
      "Denver                 338\n",
      "Detroit                338\n",
      "GrandRapids            338\n",
      "GreatLakes             338\n",
      "HarrisburgScranton     338\n",
      "HartfordSpringfield    338\n",
      "Houston                338\n",
      "Indianapolis           338\n",
      "Jacksonville           338\n",
      "LasVegas               338\n",
      "LosAngeles             338\n",
      "Louisville             338\n",
      "MiamiFtLauderdale      338\n",
      "WestTexNewMexico       335\n",
      "Name: region, dtype: int64\n"
     ]
    },
    {
     "data": {
      "image/png": "[encoded data removed]",
      "text/plain": [
       "<Figure size 640x480 with 1 Axes>"
      ]
     },
     "metadata": {},
     "output_type": "display_data"
    }
   ],
   "source": [
    "ax=sns.countplot(x='region',data=df_visualization_nominal)\n",
    "print(df_visualization_nominal['region'].value_counts())\n"
   ]
  },
  {
   "cell_type": "raw",
   "id": "e2a4e8c2",
   "metadata": {},
   "source": [
    " there are equal no of categories from each country.\n"
   ]
  },
  {
   "cell_type": "code",
   "execution_count": 24,
   "id": "0d164499",
   "metadata": {},
   "outputs": [
    {
     "name": "stdout",
     "output_type": "stream",
     "text": [
      "1     1836\n",
      "3     1728\n",
      "11    1620\n",
      "8     1620\n",
      "5     1620\n",
      "12    1512\n",
      "10    1512\n",
      "4     1512\n",
      "2     1404\n",
      "7     1404\n",
      "6     1293\n",
      "9     1188\n",
      "Name: Month, dtype: int64\n"
     ]
    },
    {
     "data": {
      "image/png": "[encoded data removed]",
      "text/plain": [
       "<Figure size 640x480 with 1 Axes>"
      ]
     },
     "metadata": {},
     "output_type": "display_data"
    }
   ],
   "source": [
    "ax=sns.countplot(x='Month',data=df_visualization_nominal)\n",
    "print(df_visualization_nominal['Month'].value_counts())\n"
   ]
  },
  {
   "cell_type": "raw",
   "id": "8a0fc66c",
   "metadata": {},
   "source": [
    "the graph shows the rise and fall in sale of avocadoes with the respect to month .\n"
   ]
  },
  {
   "cell_type": "code",
   "execution_count": 25,
   "id": "45580413",
   "metadata": {},
   "outputs": [
    {
     "data": {
      "text/plain": [
       "<seaborn.axisgrid.FacetGrid at 0x2741cf3b650>"
      ]
     },
     "execution_count": 25,
     "metadata": {},
     "output_type": "execute_result"
    },
    {
     "data": {
      "image/png": "[encoded data removed]",
      "text/plain": [
       "<Figure size 500x500 with 1 Axes>"
      ]
     },
     "metadata": {},
     "output_type": "display_data"
    }
   ],
   "source": [
    "sns.catplot(x='Date',y='Total Volume',data=df)\n"
   ]
  },
  {
   "cell_type": "raw",
   "id": "390bd90b",
   "metadata": {},
   "source": [
    "The column date does not affect the target variable.\n"
   ]
  },
  {
   "cell_type": "code",
   "execution_count": 26,
   "id": "3de993d3",
   "metadata": {},
   "outputs": [],
   "source": [
    "df.drop(columns=[\"Date\"],inplace=True)\n"
   ]
  },
  {
   "cell_type": "markdown",
   "id": "054384e1",
   "metadata": {},
   "source": [
    "# Dataframe for Visualisation for the continous data\n"
   ]
  },
  {
   "cell_type": "code",
   "execution_count": 27,
   "id": "fecf1e09",
   "metadata": {},
   "outputs": [
    {
     "data": {
      "text/html": [
       "<div>\n",
       "<style scoped>\n",
       "    .dataframe tbody tr th:only-of-type {\n",
       "        vertical-align: middle;\n",
       "    }\n",
       "\n",
       "    .dataframe tbody tr th {\n",
       "        vertical-align: top;\n",
       "    }\n",
       "\n",
       "    .dataframe thead th {\n",
       "        text-align: right;\n",
       "    }\n",
       "</style>\n",
       "<table border=\"1\" class=\"dataframe\">\n",
       "  <thead>\n",
       "    <tr style=\"text-align: right;\">\n",
       "      <th></th>\n",
       "      <th>AveragePrice</th>\n",
       "      <th>Total Volume</th>\n",
       "      <th>Small Hass</th>\n",
       "      <th>Large Hass</th>\n",
       "      <th>XLarge Hass</th>\n",
       "      <th>Total Bags</th>\n",
       "      <th>Small Bags</th>\n",
       "      <th>Large Bags</th>\n",
       "      <th>XLarge Bags</th>\n",
       "    </tr>\n",
       "  </thead>\n",
       "  <tbody>\n",
       "    <tr>\n",
       "      <th>0</th>\n",
       "      <td>1.33</td>\n",
       "      <td>64236.62</td>\n",
       "      <td>1036.74</td>\n",
       "      <td>54454.85</td>\n",
       "      <td>48.16</td>\n",
       "      <td>8696.87</td>\n",
       "      <td>8603.62</td>\n",
       "      <td>93.25</td>\n",
       "      <td>0.0</td>\n",
       "    </tr>\n",
       "    <tr>\n",
       "      <th>1</th>\n",
       "      <td>1.35</td>\n",
       "      <td>54876.98</td>\n",
       "      <td>674.28</td>\n",
       "      <td>44638.81</td>\n",
       "      <td>58.33</td>\n",
       "      <td>9505.56</td>\n",
       "      <td>9408.07</td>\n",
       "      <td>97.49</td>\n",
       "      <td>0.0</td>\n",
       "    </tr>\n",
       "    <tr>\n",
       "      <th>2</th>\n",
       "      <td>0.93</td>\n",
       "      <td>118220.22</td>\n",
       "      <td>794.70</td>\n",
       "      <td>109149.67</td>\n",
       "      <td>130.50</td>\n",
       "      <td>8145.35</td>\n",
       "      <td>8042.21</td>\n",
       "      <td>103.14</td>\n",
       "      <td>0.0</td>\n",
       "    </tr>\n",
       "    <tr>\n",
       "      <th>3</th>\n",
       "      <td>1.08</td>\n",
       "      <td>78992.15</td>\n",
       "      <td>1132.00</td>\n",
       "      <td>71976.41</td>\n",
       "      <td>72.58</td>\n",
       "      <td>5811.16</td>\n",
       "      <td>5677.40</td>\n",
       "      <td>133.76</td>\n",
       "      <td>0.0</td>\n",
       "    </tr>\n",
       "    <tr>\n",
       "      <th>4</th>\n",
       "      <td>1.28</td>\n",
       "      <td>51039.60</td>\n",
       "      <td>941.48</td>\n",
       "      <td>43838.39</td>\n",
       "      <td>75.78</td>\n",
       "      <td>6183.95</td>\n",
       "      <td>5986.26</td>\n",
       "      <td>197.69</td>\n",
       "      <td>0.0</td>\n",
       "    </tr>\n",
       "    <tr>\n",
       "      <th>...</th>\n",
       "      <td>...</td>\n",
       "      <td>...</td>\n",
       "      <td>...</td>\n",
       "      <td>...</td>\n",
       "      <td>...</td>\n",
       "      <td>...</td>\n",
       "      <td>...</td>\n",
       "      <td>...</td>\n",
       "      <td>...</td>\n",
       "    </tr>\n",
       "    <tr>\n",
       "      <th>18244</th>\n",
       "      <td>1.63</td>\n",
       "      <td>17074.83</td>\n",
       "      <td>2046.96</td>\n",
       "      <td>1529.20</td>\n",
       "      <td>0.00</td>\n",
       "      <td>13498.67</td>\n",
       "      <td>13066.82</td>\n",
       "      <td>431.85</td>\n",
       "      <td>0.0</td>\n",
       "    </tr>\n",
       "    <tr>\n",
       "      <th>18245</th>\n",
       "      <td>1.71</td>\n",
       "      <td>13888.04</td>\n",
       "      <td>1191.70</td>\n",
       "      <td>3431.50</td>\n",
       "      <td>0.00</td>\n",
       "      <td>9264.84</td>\n",
       "      <td>8940.04</td>\n",
       "      <td>324.80</td>\n",
       "      <td>0.0</td>\n",
       "    </tr>\n",
       "    <tr>\n",
       "      <th>18246</th>\n",
       "      <td>1.87</td>\n",
       "      <td>13766.76</td>\n",
       "      <td>1191.92</td>\n",
       "      <td>2452.79</td>\n",
       "      <td>727.94</td>\n",
       "      <td>9394.11</td>\n",
       "      <td>9351.80</td>\n",
       "      <td>42.31</td>\n",
       "      <td>0.0</td>\n",
       "    </tr>\n",
       "    <tr>\n",
       "      <th>18247</th>\n",
       "      <td>1.93</td>\n",
       "      <td>16205.22</td>\n",
       "      <td>1527.63</td>\n",
       "      <td>2981.04</td>\n",
       "      <td>727.01</td>\n",
       "      <td>10969.54</td>\n",
       "      <td>10919.54</td>\n",
       "      <td>50.00</td>\n",
       "      <td>0.0</td>\n",
       "    </tr>\n",
       "    <tr>\n",
       "      <th>18248</th>\n",
       "      <td>1.62</td>\n",
       "      <td>17489.58</td>\n",
       "      <td>2894.77</td>\n",
       "      <td>2356.13</td>\n",
       "      <td>224.53</td>\n",
       "      <td>12014.15</td>\n",
       "      <td>11988.14</td>\n",
       "      <td>26.01</td>\n",
       "      <td>0.0</td>\n",
       "    </tr>\n",
       "  </tbody>\n",
       "</table>\n",
       "<p>18249 rows × 9 columns</p>\n",
       "</div>"
      ],
      "text/plain": [
       "       AveragePrice  Total Volume  Small Hass  Large Hass  XLarge Hass  \\\n",
       "0              1.33      64236.62     1036.74    54454.85        48.16   \n",
       "1              1.35      54876.98      674.28    44638.81        58.33   \n",
       "2              0.93     118220.22      794.70   109149.67       130.50   \n",
       "3              1.08      78992.15     1132.00    71976.41        72.58   \n",
       "4              1.28      51039.60      941.48    43838.39        75.78   \n",
       "...             ...           ...         ...         ...          ...   \n",
       "18244          1.63      17074.83     2046.96     1529.20         0.00   \n",
       "18245          1.71      13888.04     1191.70     3431.50         0.00   \n",
       "18246          1.87      13766.76     1191.92     2452.79       727.94   \n",
       "18247          1.93      16205.22     1527.63     2981.04       727.01   \n",
       "18248          1.62      17489.58     2894.77     2356.13       224.53   \n",
       "\n",
       "       Total Bags  Small Bags  Large Bags  XLarge Bags  \n",
       "0         8696.87     8603.62       93.25          0.0  \n",
       "1         9505.56     9408.07       97.49          0.0  \n",
       "2         8145.35     8042.21      103.14          0.0  \n",
       "3         5811.16     5677.40      133.76          0.0  \n",
       "4         6183.95     5986.26      197.69          0.0  \n",
       "...           ...         ...         ...          ...  \n",
       "18244    13498.67    13066.82      431.85          0.0  \n",
       "18245     9264.84     8940.04      324.80          0.0  \n",
       "18246     9394.11     9351.80       42.31          0.0  \n",
       "18247    10969.54    10919.54       50.00          0.0  \n",
       "18248    12014.15    11988.14       26.01          0.0  \n",
       "\n",
       "[18249 rows x 9 columns]"
      ]
     },
     "execution_count": 27,
     "metadata": {},
     "output_type": "execute_result"
    }
   ],
   "source": [
    "df_visualisation_continous=df[['AveragePrice','Total Volume','Small Hass','Large Hass','XLarge Hass','Total Bags','Small Bags','Large Bags','XLarge Bags']].copy()\n",
    "df_visualisation_continous\n"
   ]
  },
  {
   "cell_type": "code",
   "execution_count": 28,
   "id": "9454a694",
   "metadata": {},
   "outputs": [
    {
     "data": {
      "text/plain": [
       "<seaborn.axisgrid.FacetGrid at 0x27420c66c50>"
      ]
     },
     "execution_count": 28,
     "metadata": {},
     "output_type": "execute_result"
    },
    {
     "data": {
      "image/png": "[encoded data removed]",
      "text/plain": [
       "<Figure size 500x500 with 1 Axes>"
      ]
     },
     "metadata": {},
     "output_type": "display_data"
    }
   ],
   "source": [
    "sns.displot(df_visualisation_continous['Total Volume'],kde=True)\n"
   ]
  },
  {
   "cell_type": "raw",
   "id": "40a6399a",
   "metadata": {},
   "source": [
    "The volume decreases with time.\n"
   ]
  },
  {
   "cell_type": "code",
   "execution_count": 29,
   "id": "b76e83b6",
   "metadata": {},
   "outputs": [
    {
     "data": {
      "text/plain": [
       "<seaborn.axisgrid.FacetGrid at 0x27421f9c210>"
      ]
     },
     "execution_count": 29,
     "metadata": {},
     "output_type": "execute_result"
    },
    {
     "data": {
      "image/png": "[encoded data removed]",
      "text/plain": [
       "<Figure size 500x500 with 1 Axes>"
      ]
     },
     "metadata": {},
     "output_type": "display_data"
    }
   ],
   "source": [
    "sns.displot(df_visualisation_continous['Small Hass'],kde=True) \n"
   ]
  },
  {
   "cell_type": "code",
   "execution_count": 30,
   "id": "a397904d",
   "metadata": {},
   "outputs": [
    {
     "data": {
      "text/plain": [
       "<seaborn.axisgrid.FacetGrid at 0x274239a7290>"
      ]
     },
     "execution_count": 30,
     "metadata": {},
     "output_type": "execute_result"
    },
    {
     "data": {
      "image/png": "[encoded data removed]",
      "text/plain": [
       "<Figure size 500x500 with 1 Axes>"
      ]
     },
     "metadata": {},
     "output_type": "display_data"
    }
   ],
   "source": [
    "sns.displot(df_visualisation_continous['Large Hass'],kde=True)\n"
   ]
  },
  {
   "cell_type": "code",
   "execution_count": 31,
   "id": "6d6ce45d",
   "metadata": {},
   "outputs": [
    {
     "data": {
      "text/plain": [
       "<seaborn.axisgrid.FacetGrid at 0x27420ea4b50>"
      ]
     },
     "execution_count": 31,
     "metadata": {},
     "output_type": "execute_result"
    },
    {
     "data": {
      "image/png": "[encoded data removed]",
      "text/plain": [
       "<Figure size 500x500 with 1 Axes>"
      ]
     },
     "metadata": {},
     "output_type": "display_data"
    }
   ],
   "source": [
    "sns.displot(df_visualisation_continous['XLarge Hass'],kde=True)\n"
   ]
  },
  {
   "cell_type": "code",
   "execution_count": 32,
   "id": "1972326f",
   "metadata": {},
   "outputs": [
    {
     "data": {
      "text/plain": [
       "<seaborn.axisgrid.FacetGrid at 0x2741ffcfe50>"
      ]
     },
     "execution_count": 32,
     "metadata": {},
     "output_type": "execute_result"
    },
    {
     "data": {
      "image/png": "[encoded data removed]",
      "text/plain": [
       "<Figure size 500x500 with 1 Axes>"
      ]
     },
     "metadata": {},
     "output_type": "display_data"
    }
   ],
   "source": [
    "sns.displot(df_visualisation_continous['Total Bags'],kde=True)\n"
   ]
  },
  {
   "cell_type": "code",
   "execution_count": 33,
   "id": "948c161e",
   "metadata": {},
   "outputs": [
    {
     "data": {
      "text/plain": [
       "<seaborn.axisgrid.FacetGrid at 0x2742aa65f10>"
      ]
     },
     "execution_count": 33,
     "metadata": {},
     "output_type": "execute_result"
    },
    {
     "data": {
      "image/png": "[encoded data removed]",
      "text/plain": [
       "<Figure size 500x500 with 1 Axes>"
      ]
     },
     "metadata": {},
     "output_type": "display_data"
    }
   ],
   "source": [
    "sns.displot(df_visualisation_continous['Small Bags'],kde=True)\n"
   ]
  },
  {
   "cell_type": "code",
   "execution_count": 34,
   "id": "c0bc817d",
   "metadata": {},
   "outputs": [
    {
     "data": {
      "text/plain": [
       "<seaborn.axisgrid.FacetGrid at 0x2742ca69a90>"
      ]
     },
     "execution_count": 34,
     "metadata": {},
     "output_type": "execute_result"
    },
    {
     "data": {
      "image/png": "[encoded data removed]",
      "text/plain": [
       "<Figure size 500x500 with 1 Axes>"
      ]
     },
     "metadata": {},
     "output_type": "display_data"
    }
   ],
   "source": [
    "sns.displot(df_visualisation_continous['Large Bags'],kde=True)\n"
   ]
  },
  {
   "cell_type": "code",
   "execution_count": 35,
   "id": "605aee4e",
   "metadata": {},
   "outputs": [
    {
     "data": {
      "text/plain": [
       "<seaborn.axisgrid.FacetGrid at 0x2742cb70e90>"
      ]
     },
     "execution_count": 35,
     "metadata": {},
     "output_type": "execute_result"
    },
    {
     "data": {
      "image/png": "[encoded data removed]",
      "text/plain": [
       "<Figure size 500x500 with 1 Axes>"
      ]
     },
     "metadata": {},
     "output_type": "display_data"
    }
   ],
   "source": [
    "sns.displot(df_visualisation_continous['XLarge Bags'],kde=True)\n"
   ]
  },
  {
   "cell_type": "markdown",
   "id": "09034d18",
   "metadata": {},
   "source": [
    "# Graph for the Target Variable - 'Average Price'\n"
   ]
  },
  {
   "cell_type": "code",
   "execution_count": 36,
   "id": "deb46a00",
   "metadata": {},
   "outputs": [
    {
     "data": {
      "image/png": "[encoded data removed]",
      "text/plain": [
       "<Figure size 640x480 with 1 Axes>"
      ]
     },
     "metadata": {},
     "output_type": "display_data"
    }
   ],
   "source": [
    "df['AveragePrice'].hist(grid=True) # analysis on single attribute of the dataset\n",
    "plt.title('Average Price')\n",
    "plt.show()\n"
   ]
  },
  {
   "cell_type": "raw",
   "id": "11f6e19f",
   "metadata": {},
   "source": [
    "The average price for the avocadoes is a continous variable in nature.Hence, it's a regression type machine learning problem.\n",
    "The graph represents that :-\n",
    "Majority of the avacado's price in most of the countries is somewhere in range 1.0 to 1.7.\n",
    "A very low no of countries offer the avocados at great low price in comparion to most of the countries.\n",
    "Some countries offer avocados at higher than average price of most of the countries.\n"
   ]
  },
  {
   "cell_type": "markdown",
   "id": "f8ccb722",
   "metadata": {},
   "source": [
    "# Encoding the Dataframe :\n"
   ]
  },
  {
   "cell_type": "code",
   "execution_count": 37,
   "id": "11f47b48",
   "metadata": {},
   "outputs": [],
   "source": [
    "from sklearn.preprocessing import LabelEncoder\n",
    "from sklearn import preprocessing\n"
   ]
  },
  {
   "cell_type": "code",
   "execution_count": 38,
   "id": "755b7d3c",
   "metadata": {},
   "outputs": [
    {
     "data": {
      "text/html": [
       "<div>\n",
       "<style scoped>\n",
       "    .dataframe tbody tr th:only-of-type {\n",
       "        vertical-align: middle;\n",
       "    }\n",
       "\n",
       "    .dataframe tbody tr th {\n",
       "        vertical-align: top;\n",
       "    }\n",
       "\n",
       "    .dataframe thead th {\n",
       "        text-align: right;\n",
       "    }\n",
       "</style>\n",
       "<table border=\"1\" class=\"dataframe\">\n",
       "  <thead>\n",
       "    <tr style=\"text-align: right;\">\n",
       "      <th></th>\n",
       "      <th>AveragePrice</th>\n",
       "      <th>Total Volume</th>\n",
       "      <th>Small Hass</th>\n",
       "      <th>Large Hass</th>\n",
       "      <th>XLarge Hass</th>\n",
       "      <th>Total Bags</th>\n",
       "      <th>Small Bags</th>\n",
       "      <th>Large Bags</th>\n",
       "      <th>XLarge Bags</th>\n",
       "      <th>type</th>\n",
       "      <th>year</th>\n",
       "      <th>region</th>\n",
       "      <th>Month</th>\n",
       "    </tr>\n",
       "  </thead>\n",
       "  <tbody>\n",
       "    <tr>\n",
       "      <th>0</th>\n",
       "      <td>1.33</td>\n",
       "      <td>64236.62</td>\n",
       "      <td>1036.74</td>\n",
       "      <td>54454.85</td>\n",
       "      <td>48.16</td>\n",
       "      <td>8696.87</td>\n",
       "      <td>8603.62</td>\n",
       "      <td>93.25</td>\n",
       "      <td>0.0</td>\n",
       "      <td>0</td>\n",
       "      <td>2015</td>\n",
       "      <td>0</td>\n",
       "      <td>12</td>\n",
       "    </tr>\n",
       "    <tr>\n",
       "      <th>1</th>\n",
       "      <td>1.35</td>\n",
       "      <td>54876.98</td>\n",
       "      <td>674.28</td>\n",
       "      <td>44638.81</td>\n",
       "      <td>58.33</td>\n",
       "      <td>9505.56</td>\n",
       "      <td>9408.07</td>\n",
       "      <td>97.49</td>\n",
       "      <td>0.0</td>\n",
       "      <td>0</td>\n",
       "      <td>2015</td>\n",
       "      <td>0</td>\n",
       "      <td>12</td>\n",
       "    </tr>\n",
       "    <tr>\n",
       "      <th>2</th>\n",
       "      <td>0.93</td>\n",
       "      <td>118220.22</td>\n",
       "      <td>794.70</td>\n",
       "      <td>109149.67</td>\n",
       "      <td>130.50</td>\n",
       "      <td>8145.35</td>\n",
       "      <td>8042.21</td>\n",
       "      <td>103.14</td>\n",
       "      <td>0.0</td>\n",
       "      <td>0</td>\n",
       "      <td>2015</td>\n",
       "      <td>0</td>\n",
       "      <td>12</td>\n",
       "    </tr>\n",
       "    <tr>\n",
       "      <th>3</th>\n",
       "      <td>1.08</td>\n",
       "      <td>78992.15</td>\n",
       "      <td>1132.00</td>\n",
       "      <td>71976.41</td>\n",
       "      <td>72.58</td>\n",
       "      <td>5811.16</td>\n",
       "      <td>5677.40</td>\n",
       "      <td>133.76</td>\n",
       "      <td>0.0</td>\n",
       "      <td>0</td>\n",
       "      <td>2015</td>\n",
       "      <td>0</td>\n",
       "      <td>6</td>\n",
       "    </tr>\n",
       "    <tr>\n",
       "      <th>4</th>\n",
       "      <td>1.28</td>\n",
       "      <td>51039.60</td>\n",
       "      <td>941.48</td>\n",
       "      <td>43838.39</td>\n",
       "      <td>75.78</td>\n",
       "      <td>6183.95</td>\n",
       "      <td>5986.26</td>\n",
       "      <td>197.69</td>\n",
       "      <td>0.0</td>\n",
       "      <td>0</td>\n",
       "      <td>2015</td>\n",
       "      <td>0</td>\n",
       "      <td>11</td>\n",
       "    </tr>\n",
       "    <tr>\n",
       "      <th>...</th>\n",
       "      <td>...</td>\n",
       "      <td>...</td>\n",
       "      <td>...</td>\n",
       "      <td>...</td>\n",
       "      <td>...</td>\n",
       "      <td>...</td>\n",
       "      <td>...</td>\n",
       "      <td>...</td>\n",
       "      <td>...</td>\n",
       "      <td>...</td>\n",
       "      <td>...</td>\n",
       "      <td>...</td>\n",
       "      <td>...</td>\n",
       "    </tr>\n",
       "    <tr>\n",
       "      <th>18244</th>\n",
       "      <td>1.63</td>\n",
       "      <td>17074.83</td>\n",
       "      <td>2046.96</td>\n",
       "      <td>1529.20</td>\n",
       "      <td>0.00</td>\n",
       "      <td>13498.67</td>\n",
       "      <td>13066.82</td>\n",
       "      <td>431.85</td>\n",
       "      <td>0.0</td>\n",
       "      <td>1</td>\n",
       "      <td>2018</td>\n",
       "      <td>53</td>\n",
       "      <td>4</td>\n",
       "    </tr>\n",
       "    <tr>\n",
       "      <th>18245</th>\n",
       "      <td>1.71</td>\n",
       "      <td>13888.04</td>\n",
       "      <td>1191.70</td>\n",
       "      <td>3431.50</td>\n",
       "      <td>0.00</td>\n",
       "      <td>9264.84</td>\n",
       "      <td>8940.04</td>\n",
       "      <td>324.80</td>\n",
       "      <td>0.0</td>\n",
       "      <td>1</td>\n",
       "      <td>2018</td>\n",
       "      <td>53</td>\n",
       "      <td>1</td>\n",
       "    </tr>\n",
       "    <tr>\n",
       "      <th>18246</th>\n",
       "      <td>1.87</td>\n",
       "      <td>13766.76</td>\n",
       "      <td>1191.92</td>\n",
       "      <td>2452.79</td>\n",
       "      <td>727.94</td>\n",
       "      <td>9394.11</td>\n",
       "      <td>9351.80</td>\n",
       "      <td>42.31</td>\n",
       "      <td>0.0</td>\n",
       "      <td>1</td>\n",
       "      <td>2018</td>\n",
       "      <td>53</td>\n",
       "      <td>1</td>\n",
       "    </tr>\n",
       "    <tr>\n",
       "      <th>18247</th>\n",
       "      <td>1.93</td>\n",
       "      <td>16205.22</td>\n",
       "      <td>1527.63</td>\n",
       "      <td>2981.04</td>\n",
       "      <td>727.01</td>\n",
       "      <td>10969.54</td>\n",
       "      <td>10919.54</td>\n",
       "      <td>50.00</td>\n",
       "      <td>0.0</td>\n",
       "      <td>1</td>\n",
       "      <td>2018</td>\n",
       "      <td>53</td>\n",
       "      <td>1</td>\n",
       "    </tr>\n",
       "    <tr>\n",
       "      <th>18248</th>\n",
       "      <td>1.62</td>\n",
       "      <td>17489.58</td>\n",
       "      <td>2894.77</td>\n",
       "      <td>2356.13</td>\n",
       "      <td>224.53</td>\n",
       "      <td>12014.15</td>\n",
       "      <td>11988.14</td>\n",
       "      <td>26.01</td>\n",
       "      <td>0.0</td>\n",
       "      <td>1</td>\n",
       "      <td>2018</td>\n",
       "      <td>53</td>\n",
       "      <td>7</td>\n",
       "    </tr>\n",
       "  </tbody>\n",
       "</table>\n",
       "<p>18249 rows × 13 columns</p>\n",
       "</div>"
      ],
      "text/plain": [
       "       AveragePrice  Total Volume  Small Hass  Large Hass  XLarge Hass  \\\n",
       "0              1.33      64236.62     1036.74    54454.85        48.16   \n",
       "1              1.35      54876.98      674.28    44638.81        58.33   \n",
       "2              0.93     118220.22      794.70   109149.67       130.50   \n",
       "3              1.08      78992.15     1132.00    71976.41        72.58   \n",
       "4              1.28      51039.60      941.48    43838.39        75.78   \n",
       "...             ...           ...         ...         ...          ...   \n",
       "18244          1.63      17074.83     2046.96     1529.20         0.00   \n",
       "18245          1.71      13888.04     1191.70     3431.50         0.00   \n",
       "18246          1.87      13766.76     1191.92     2452.79       727.94   \n",
       "18247          1.93      16205.22     1527.63     2981.04       727.01   \n",
       "18248          1.62      17489.58     2894.77     2356.13       224.53   \n",
       "\n",
       "       Total Bags  Small Bags  Large Bags  XLarge Bags  type  year  region  \\\n",
       "0         8696.87     8603.62       93.25          0.0     0  2015       0   \n",
       "1         9505.56     9408.07       97.49          0.0     0  2015       0   \n",
       "2         8145.35     8042.21      103.14          0.0     0  2015       0   \n",
       "3         5811.16     5677.40      133.76          0.0     0  2015       0   \n",
       "4         6183.95     5986.26      197.69          0.0     0  2015       0   \n",
       "...           ...         ...         ...          ...   ...   ...     ...   \n",
       "18244    13498.67    13066.82      431.85          0.0     1  2018      53   \n",
       "18245     9264.84     8940.04      324.80          0.0     1  2018      53   \n",
       "18246     9394.11     9351.80       42.31          0.0     1  2018      53   \n",
       "18247    10969.54    10919.54       50.00          0.0     1  2018      53   \n",
       "18248    12014.15    11988.14       26.01          0.0     1  2018      53   \n",
       "\n",
       "       Month  \n",
       "0         12  \n",
       "1         12  \n",
       "2         12  \n",
       "3          6  \n",
       "4         11  \n",
       "...      ...  \n",
       "18244      4  \n",
       "18245      1  \n",
       "18246      1  \n",
       "18247      1  \n",
       "18248      7  \n",
       "\n",
       "[18249 rows x 13 columns]"
      ]
     },
     "execution_count": 38,
     "metadata": {},
     "output_type": "execute_result"
    }
   ],
   "source": [
    "le=preprocessing.LabelEncoder()\n",
    "df['type']=le.fit_transform(df['type'])\n",
    "df['region']=le.fit_transform(df['region'])\n",
    "#df['Date']=le.fit_transform(df['Date'])\n",
    "df\n"
   ]
  },
  {
   "cell_type": "markdown",
   "id": "990b72c1",
   "metadata": {},
   "source": [
    "# Description of the dataframe\n"
   ]
  },
  {
   "cell_type": "code",
   "execution_count": 39,
   "id": "d25ff397",
   "metadata": {},
   "outputs": [
    {
     "data": {
      "text/html": [
       "<div>\n",
       "<style scoped>\n",
       "    .dataframe tbody tr th:only-of-type {\n",
       "        vertical-align: middle;\n",
       "    }\n",
       "\n",
       "    .dataframe tbody tr th {\n",
       "        vertical-align: top;\n",
       "    }\n",
       "\n",
       "    .dataframe thead th {\n",
       "        text-align: right;\n",
       "    }\n",
       "</style>\n",
       "<table border=\"1\" class=\"dataframe\">\n",
       "  <thead>\n",
       "    <tr style=\"text-align: right;\">\n",
       "      <th></th>\n",
       "      <th>AveragePrice</th>\n",
       "      <th>Total Volume</th>\n",
       "      <th>Small Hass</th>\n",
       "      <th>Large Hass</th>\n",
       "      <th>XLarge Hass</th>\n",
       "      <th>Total Bags</th>\n",
       "      <th>Small Bags</th>\n",
       "      <th>Large Bags</th>\n",
       "      <th>XLarge Bags</th>\n",
       "      <th>type</th>\n",
       "      <th>year</th>\n",
       "      <th>region</th>\n",
       "      <th>Month</th>\n",
       "    </tr>\n",
       "  </thead>\n",
       "  <tbody>\n",
       "    <tr>\n",
       "      <th>count</th>\n",
       "      <td>18249.000000</td>\n",
       "      <td>1.824900e+04</td>\n",
       "      <td>1.824900e+04</td>\n",
       "      <td>1.824900e+04</td>\n",
       "      <td>1.824900e+04</td>\n",
       "      <td>1.824900e+04</td>\n",
       "      <td>1.824900e+04</td>\n",
       "      <td>1.824900e+04</td>\n",
       "      <td>18249.000000</td>\n",
       "      <td>18249.000000</td>\n",
       "      <td>18249.000000</td>\n",
       "      <td>18249.000000</td>\n",
       "      <td>18249.000000</td>\n",
       "    </tr>\n",
       "    <tr>\n",
       "      <th>mean</th>\n",
       "      <td>1.405978</td>\n",
       "      <td>8.506440e+05</td>\n",
       "      <td>2.930084e+05</td>\n",
       "      <td>2.951546e+05</td>\n",
       "      <td>2.283974e+04</td>\n",
       "      <td>2.396392e+05</td>\n",
       "      <td>1.821947e+05</td>\n",
       "      <td>5.433809e+04</td>\n",
       "      <td>3106.426507</td>\n",
       "      <td>0.499918</td>\n",
       "      <td>2016.147899</td>\n",
       "      <td>26.495644</td>\n",
       "      <td>6.372842</td>\n",
       "    </tr>\n",
       "    <tr>\n",
       "      <th>std</th>\n",
       "      <td>0.402677</td>\n",
       "      <td>3.453545e+06</td>\n",
       "      <td>1.264989e+06</td>\n",
       "      <td>1.204120e+06</td>\n",
       "      <td>1.074641e+05</td>\n",
       "      <td>9.862424e+05</td>\n",
       "      <td>7.461785e+05</td>\n",
       "      <td>2.439660e+05</td>\n",
       "      <td>17692.894652</td>\n",
       "      <td>0.500014</td>\n",
       "      <td>0.939938</td>\n",
       "      <td>15.583788</td>\n",
       "      <td>3.525034</td>\n",
       "    </tr>\n",
       "    <tr>\n",
       "      <th>min</th>\n",
       "      <td>0.440000</td>\n",
       "      <td>8.456000e+01</td>\n",
       "      <td>0.000000e+00</td>\n",
       "      <td>0.000000e+00</td>\n",
       "      <td>0.000000e+00</td>\n",
       "      <td>0.000000e+00</td>\n",
       "      <td>0.000000e+00</td>\n",
       "      <td>0.000000e+00</td>\n",
       "      <td>0.000000</td>\n",
       "      <td>0.000000</td>\n",
       "      <td>2015.000000</td>\n",
       "      <td>0.000000</td>\n",
       "      <td>1.000000</td>\n",
       "    </tr>\n",
       "    <tr>\n",
       "      <th>25%</th>\n",
       "      <td>1.100000</td>\n",
       "      <td>1.083858e+04</td>\n",
       "      <td>8.540700e+02</td>\n",
       "      <td>3.008780e+03</td>\n",
       "      <td>0.000000e+00</td>\n",
       "      <td>5.088640e+03</td>\n",
       "      <td>2.849420e+03</td>\n",
       "      <td>1.274700e+02</td>\n",
       "      <td>0.000000</td>\n",
       "      <td>0.000000</td>\n",
       "      <td>2015.000000</td>\n",
       "      <td>13.000000</td>\n",
       "      <td>3.000000</td>\n",
       "    </tr>\n",
       "    <tr>\n",
       "      <th>50%</th>\n",
       "      <td>1.370000</td>\n",
       "      <td>1.073768e+05</td>\n",
       "      <td>8.645300e+03</td>\n",
       "      <td>2.906102e+04</td>\n",
       "      <td>1.849900e+02</td>\n",
       "      <td>3.974383e+04</td>\n",
       "      <td>2.636282e+04</td>\n",
       "      <td>2.647710e+03</td>\n",
       "      <td>0.000000</td>\n",
       "      <td>0.000000</td>\n",
       "      <td>2016.000000</td>\n",
       "      <td>26.000000</td>\n",
       "      <td>6.000000</td>\n",
       "    </tr>\n",
       "    <tr>\n",
       "      <th>75%</th>\n",
       "      <td>1.660000</td>\n",
       "      <td>4.329623e+05</td>\n",
       "      <td>1.110202e+05</td>\n",
       "      <td>1.502069e+05</td>\n",
       "      <td>6.243420e+03</td>\n",
       "      <td>1.107834e+05</td>\n",
       "      <td>8.333767e+04</td>\n",
       "      <td>2.202925e+04</td>\n",
       "      <td>132.500000</td>\n",
       "      <td>1.000000</td>\n",
       "      <td>2017.000000</td>\n",
       "      <td>40.000000</td>\n",
       "      <td>10.000000</td>\n",
       "    </tr>\n",
       "    <tr>\n",
       "      <th>max</th>\n",
       "      <td>3.250000</td>\n",
       "      <td>6.250565e+07</td>\n",
       "      <td>2.274362e+07</td>\n",
       "      <td>2.047057e+07</td>\n",
       "      <td>2.546439e+06</td>\n",
       "      <td>1.937313e+07</td>\n",
       "      <td>1.338459e+07</td>\n",
       "      <td>5.719097e+06</td>\n",
       "      <td>551693.650000</td>\n",
       "      <td>1.000000</td>\n",
       "      <td>2018.000000</td>\n",
       "      <td>53.000000</td>\n",
       "      <td>12.000000</td>\n",
       "    </tr>\n",
       "  </tbody>\n",
       "</table>\n",
       "</div>"
      ],
      "text/plain": [
       "       AveragePrice  Total Volume    Small Hass    Large Hass   XLarge Hass  \\\n",
       "count  18249.000000  1.824900e+04  1.824900e+04  1.824900e+04  1.824900e+04   \n",
       "mean       1.405978  8.506440e+05  2.930084e+05  2.951546e+05  2.283974e+04   \n",
       "std        0.402677  3.453545e+06  1.264989e+06  1.204120e+06  1.074641e+05   \n",
       "min        0.440000  8.456000e+01  0.000000e+00  0.000000e+00  0.000000e+00   \n",
       "25%        1.100000  1.083858e+04  8.540700e+02  3.008780e+03  0.000000e+00   \n",
       "50%        1.370000  1.073768e+05  8.645300e+03  2.906102e+04  1.849900e+02   \n",
       "75%        1.660000  4.329623e+05  1.110202e+05  1.502069e+05  6.243420e+03   \n",
       "max        3.250000  6.250565e+07  2.274362e+07  2.047057e+07  2.546439e+06   \n",
       "\n",
       "         Total Bags    Small Bags    Large Bags    XLarge Bags          type  \\\n",
       "count  1.824900e+04  1.824900e+04  1.824900e+04   18249.000000  18249.000000   \n",
       "mean   2.396392e+05  1.821947e+05  5.433809e+04    3106.426507      0.499918   \n",
       "std    9.862424e+05  7.461785e+05  2.439660e+05   17692.894652      0.500014   \n",
       "min    0.000000e+00  0.000000e+00  0.000000e+00       0.000000      0.000000   \n",
       "25%    5.088640e+03  2.849420e+03  1.274700e+02       0.000000      0.000000   \n",
       "50%    3.974383e+04  2.636282e+04  2.647710e+03       0.000000      0.000000   \n",
       "75%    1.107834e+05  8.333767e+04  2.202925e+04     132.500000      1.000000   \n",
       "max    1.937313e+07  1.338459e+07  5.719097e+06  551693.650000      1.000000   \n",
       "\n",
       "               year        region         Month  \n",
       "count  18249.000000  18249.000000  18249.000000  \n",
       "mean    2016.147899     26.495644      6.372842  \n",
       "std        0.939938     15.583788      3.525034  \n",
       "min     2015.000000      0.000000      1.000000  \n",
       "25%     2015.000000     13.000000      3.000000  \n",
       "50%     2016.000000     26.000000      6.000000  \n",
       "75%     2017.000000     40.000000     10.000000  \n",
       "max     2018.000000     53.000000     12.000000  "
      ]
     },
     "execution_count": 39,
     "metadata": {},
     "output_type": "execute_result"
    }
   ],
   "source": [
    "df.describe()\n"
   ]
  },
  {
   "cell_type": "raw",
   "id": "d7e68e45",
   "metadata": {},
   "source": [
    "The dataframe description gives -\n",
    "\n",
    "The total count of values in each columns i.e 14 .\n",
    "The mean and standard deviation values of each columns.\n",
    "The quartile values for 25the , 50th and 75th persentiles.\n",
    "The maximum values for each columns as well.\n"
   ]
  },
  {
   "cell_type": "markdown",
   "id": "5773512a",
   "metadata": {},
   "source": [
    "# Graph for the description\n"
   ]
  },
  {
   "cell_type": "code",
   "execution_count": 40,
   "id": "0835acd2",
   "metadata": {},
   "outputs": [
    {
     "data": {
      "text/plain": [
       "<Axes: >"
      ]
     },
     "execution_count": 40,
     "metadata": {},
     "output_type": "execute_result"
    },
    {
     "data": {
      "image/png": "[encoded data removed]",
      "text/plain": [
       "<Figure size 1800x500 with 2 Axes>"
      ]
     },
     "metadata": {},
     "output_type": "display_data"
    }
   ],
   "source": [
    "plt.figure(figsize=(18,5))\n",
    "sns.heatmap(df.describe(),annot=True)\n"
   ]
  },
  {
   "cell_type": "markdown",
   "id": "1684d550",
   "metadata": {},
   "source": [
    "# Correlation of the columns with the target variables :-\n"
   ]
  },
  {
   "cell_type": "code",
   "execution_count": 41,
   "id": "e3a81f72",
   "metadata": {},
   "outputs": [
    {
     "data": {
      "text/html": [
       "<div>\n",
       "<style scoped>\n",
       "    .dataframe tbody tr th:only-of-type {\n",
       "        vertical-align: middle;\n",
       "    }\n",
       "\n",
       "    .dataframe tbody tr th {\n",
       "        vertical-align: top;\n",
       "    }\n",
       "\n",
       "    .dataframe thead th {\n",
       "        text-align: right;\n",
       "    }\n",
       "</style>\n",
       "<table border=\"1\" class=\"dataframe\">\n",
       "  <thead>\n",
       "    <tr style=\"text-align: right;\">\n",
       "      <th></th>\n",
       "      <th>AveragePrice</th>\n",
       "      <th>Total Volume</th>\n",
       "      <th>Small Hass</th>\n",
       "      <th>Large Hass</th>\n",
       "      <th>XLarge Hass</th>\n",
       "      <th>Total Bags</th>\n",
       "      <th>Small Bags</th>\n",
       "      <th>Large Bags</th>\n",
       "      <th>XLarge Bags</th>\n",
       "      <th>type</th>\n",
       "      <th>year</th>\n",
       "      <th>region</th>\n",
       "      <th>Month</th>\n",
       "    </tr>\n",
       "  </thead>\n",
       "  <tbody>\n",
       "    <tr>\n",
       "      <th>AveragePrice</th>\n",
       "      <td>1.000000</td>\n",
       "      <td>-0.192752</td>\n",
       "      <td>-0.208317</td>\n",
       "      <td>-0.172928</td>\n",
       "      <td>-0.179446</td>\n",
       "      <td>-0.177088</td>\n",
       "      <td>-0.174730</td>\n",
       "      <td>-0.172940</td>\n",
       "      <td>-0.117592</td>\n",
       "      <td>0.615845</td>\n",
       "      <td>0.093197</td>\n",
       "      <td>-0.011716</td>\n",
       "      <td>0.075134</td>\n",
       "    </tr>\n",
       "    <tr>\n",
       "      <th>Total Volume</th>\n",
       "      <td>-0.192752</td>\n",
       "      <td>1.000000</td>\n",
       "      <td>0.977863</td>\n",
       "      <td>0.974181</td>\n",
       "      <td>0.872202</td>\n",
       "      <td>0.963047</td>\n",
       "      <td>0.967238</td>\n",
       "      <td>0.880640</td>\n",
       "      <td>0.747157</td>\n",
       "      <td>-0.232434</td>\n",
       "      <td>0.017193</td>\n",
       "      <td>0.174176</td>\n",
       "      <td>-0.015344</td>\n",
       "    </tr>\n",
       "    <tr>\n",
       "      <th>Small Hass</th>\n",
       "      <td>-0.208317</td>\n",
       "      <td>0.977863</td>\n",
       "      <td>1.000000</td>\n",
       "      <td>0.926110</td>\n",
       "      <td>0.833389</td>\n",
       "      <td>0.920057</td>\n",
       "      <td>0.925280</td>\n",
       "      <td>0.838645</td>\n",
       "      <td>0.699377</td>\n",
       "      <td>-0.225819</td>\n",
       "      <td>0.003353</td>\n",
       "      <td>0.192073</td>\n",
       "      <td>-0.014522</td>\n",
       "    </tr>\n",
       "    <tr>\n",
       "      <th>Large Hass</th>\n",
       "      <td>-0.172928</td>\n",
       "      <td>0.974181</td>\n",
       "      <td>0.926110</td>\n",
       "      <td>1.000000</td>\n",
       "      <td>0.887855</td>\n",
       "      <td>0.905787</td>\n",
       "      <td>0.916031</td>\n",
       "      <td>0.810015</td>\n",
       "      <td>0.688809</td>\n",
       "      <td>-0.232289</td>\n",
       "      <td>-0.009559</td>\n",
       "      <td>0.145726</td>\n",
       "      <td>-0.015892</td>\n",
       "    </tr>\n",
       "    <tr>\n",
       "      <th>XLarge Hass</th>\n",
       "      <td>-0.179446</td>\n",
       "      <td>0.872202</td>\n",
       "      <td>0.833389</td>\n",
       "      <td>0.887855</td>\n",
       "      <td>1.000000</td>\n",
       "      <td>0.792314</td>\n",
       "      <td>0.802733</td>\n",
       "      <td>0.698471</td>\n",
       "      <td>0.679861</td>\n",
       "      <td>-0.210027</td>\n",
       "      <td>-0.036531</td>\n",
       "      <td>0.095252</td>\n",
       "      <td>-0.024220</td>\n",
       "    </tr>\n",
       "    <tr>\n",
       "      <th>Total Bags</th>\n",
       "      <td>-0.177088</td>\n",
       "      <td>0.963047</td>\n",
       "      <td>0.920057</td>\n",
       "      <td>0.905787</td>\n",
       "      <td>0.792314</td>\n",
       "      <td>1.000000</td>\n",
       "      <td>0.994335</td>\n",
       "      <td>0.943009</td>\n",
       "      <td>0.804233</td>\n",
       "      <td>-0.217788</td>\n",
       "      <td>0.071552</td>\n",
       "      <td>0.175256</td>\n",
       "      <td>-0.013061</td>\n",
       "    </tr>\n",
       "    <tr>\n",
       "      <th>Small Bags</th>\n",
       "      <td>-0.174730</td>\n",
       "      <td>0.967238</td>\n",
       "      <td>0.925280</td>\n",
       "      <td>0.916031</td>\n",
       "      <td>0.802733</td>\n",
       "      <td>0.994335</td>\n",
       "      <td>1.000000</td>\n",
       "      <td>0.902589</td>\n",
       "      <td>0.806845</td>\n",
       "      <td>-0.220535</td>\n",
       "      <td>0.063915</td>\n",
       "      <td>0.164702</td>\n",
       "      <td>-0.012432</td>\n",
       "    </tr>\n",
       "    <tr>\n",
       "      <th>Large Bags</th>\n",
       "      <td>-0.172940</td>\n",
       "      <td>0.880640</td>\n",
       "      <td>0.838645</td>\n",
       "      <td>0.810015</td>\n",
       "      <td>0.698471</td>\n",
       "      <td>0.943009</td>\n",
       "      <td>0.902589</td>\n",
       "      <td>1.000000</td>\n",
       "      <td>0.710858</td>\n",
       "      <td>-0.193177</td>\n",
       "      <td>0.087891</td>\n",
       "      <td>0.198768</td>\n",
       "      <td>-0.014330</td>\n",
       "    </tr>\n",
       "    <tr>\n",
       "      <th>XLarge Bags</th>\n",
       "      <td>-0.117592</td>\n",
       "      <td>0.747157</td>\n",
       "      <td>0.699377</td>\n",
       "      <td>0.688809</td>\n",
       "      <td>0.679861</td>\n",
       "      <td>0.804233</td>\n",
       "      <td>0.806845</td>\n",
       "      <td>0.710858</td>\n",
       "      <td>1.000000</td>\n",
       "      <td>-0.175483</td>\n",
       "      <td>0.081033</td>\n",
       "      <td>0.082281</td>\n",
       "      <td>-0.006182</td>\n",
       "    </tr>\n",
       "    <tr>\n",
       "      <th>type</th>\n",
       "      <td>0.615845</td>\n",
       "      <td>-0.232434</td>\n",
       "      <td>-0.225819</td>\n",
       "      <td>-0.232289</td>\n",
       "      <td>-0.210027</td>\n",
       "      <td>-0.217788</td>\n",
       "      <td>-0.220535</td>\n",
       "      <td>-0.193177</td>\n",
       "      <td>-0.175483</td>\n",
       "      <td>1.000000</td>\n",
       "      <td>-0.000032</td>\n",
       "      <td>-0.000280</td>\n",
       "      <td>0.000017</td>\n",
       "    </tr>\n",
       "    <tr>\n",
       "      <th>year</th>\n",
       "      <td>0.093197</td>\n",
       "      <td>0.017193</td>\n",
       "      <td>0.003353</td>\n",
       "      <td>-0.009559</td>\n",
       "      <td>-0.036531</td>\n",
       "      <td>0.071552</td>\n",
       "      <td>0.063915</td>\n",
       "      <td>0.087891</td>\n",
       "      <td>0.081033</td>\n",
       "      <td>-0.000032</td>\n",
       "      <td>1.000000</td>\n",
       "      <td>-0.000055</td>\n",
       "      <td>-0.098812</td>\n",
       "    </tr>\n",
       "    <tr>\n",
       "      <th>region</th>\n",
       "      <td>-0.011716</td>\n",
       "      <td>0.174176</td>\n",
       "      <td>0.192073</td>\n",
       "      <td>0.145726</td>\n",
       "      <td>0.095252</td>\n",
       "      <td>0.175256</td>\n",
       "      <td>0.164702</td>\n",
       "      <td>0.198768</td>\n",
       "      <td>0.082281</td>\n",
       "      <td>-0.000280</td>\n",
       "      <td>-0.000055</td>\n",
       "      <td>1.000000</td>\n",
       "      <td>0.000030</td>\n",
       "    </tr>\n",
       "    <tr>\n",
       "      <th>Month</th>\n",
       "      <td>0.075134</td>\n",
       "      <td>-0.015344</td>\n",
       "      <td>-0.014522</td>\n",
       "      <td>-0.015892</td>\n",
       "      <td>-0.024220</td>\n",
       "      <td>-0.013061</td>\n",
       "      <td>-0.012432</td>\n",
       "      <td>-0.014330</td>\n",
       "      <td>-0.006182</td>\n",
       "      <td>0.000017</td>\n",
       "      <td>-0.098812</td>\n",
       "      <td>0.000030</td>\n",
       "      <td>1.000000</td>\n",
       "    </tr>\n",
       "  </tbody>\n",
       "</table>\n",
       "</div>"
      ],
      "text/plain": [
       "              AveragePrice  Total Volume  Small Hass  Large Hass  XLarge Hass  \\\n",
       "AveragePrice      1.000000     -0.192752   -0.208317   -0.172928    -0.179446   \n",
       "Total Volume     -0.192752      1.000000    0.977863    0.974181     0.872202   \n",
       "Small Hass       -0.208317      0.977863    1.000000    0.926110     0.833389   \n",
       "Large Hass       -0.172928      0.974181    0.926110    1.000000     0.887855   \n",
       "XLarge Hass      -0.179446      0.872202    0.833389    0.887855     1.000000   \n",
       "Total Bags       -0.177088      0.963047    0.920057    0.905787     0.792314   \n",
       "Small Bags       -0.174730      0.967238    0.925280    0.916031     0.802733   \n",
       "Large Bags       -0.172940      0.880640    0.838645    0.810015     0.698471   \n",
       "XLarge Bags      -0.117592      0.747157    0.699377    0.688809     0.679861   \n",
       "type              0.615845     -0.232434   -0.225819   -0.232289    -0.210027   \n",
       "year              0.093197      0.017193    0.003353   -0.009559    -0.036531   \n",
       "region           -0.011716      0.174176    0.192073    0.145726     0.095252   \n",
       "Month             0.075134     -0.015344   -0.014522   -0.015892    -0.024220   \n",
       "\n",
       "              Total Bags  Small Bags  Large Bags  XLarge Bags      type  \\\n",
       "AveragePrice   -0.177088   -0.174730   -0.172940    -0.117592  0.615845   \n",
       "Total Volume    0.963047    0.967238    0.880640     0.747157 -0.232434   \n",
       "Small Hass      0.920057    0.925280    0.838645     0.699377 -0.225819   \n",
       "Large Hass      0.905787    0.916031    0.810015     0.688809 -0.232289   \n",
       "XLarge Hass     0.792314    0.802733    0.698471     0.679861 -0.210027   \n",
       "Total Bags      1.000000    0.994335    0.943009     0.804233 -0.217788   \n",
       "Small Bags      0.994335    1.000000    0.902589     0.806845 -0.220535   \n",
       "Large Bags      0.943009    0.902589    1.000000     0.710858 -0.193177   \n",
       "XLarge Bags     0.804233    0.806845    0.710858     1.000000 -0.175483   \n",
       "type           -0.217788   -0.220535   -0.193177    -0.175483  1.000000   \n",
       "year            0.071552    0.063915    0.087891     0.081033 -0.000032   \n",
       "region          0.175256    0.164702    0.198768     0.082281 -0.000280   \n",
       "Month          -0.013061   -0.012432   -0.014330    -0.006182  0.000017   \n",
       "\n",
       "                  year    region     Month  \n",
       "AveragePrice  0.093197 -0.011716  0.075134  \n",
       "Total Volume  0.017193  0.174176 -0.015344  \n",
       "Small Hass    0.003353  0.192073 -0.014522  \n",
       "Large Hass   -0.009559  0.145726 -0.015892  \n",
       "XLarge Hass  -0.036531  0.095252 -0.024220  \n",
       "Total Bags    0.071552  0.175256 -0.013061  \n",
       "Small Bags    0.063915  0.164702 -0.012432  \n",
       "Large Bags    0.087891  0.198768 -0.014330  \n",
       "XLarge Bags   0.081033  0.082281 -0.006182  \n",
       "type         -0.000032 -0.000280  0.000017  \n",
       "year          1.000000 -0.000055 -0.098812  \n",
       "region       -0.000055  1.000000  0.000030  \n",
       "Month        -0.098812  0.000030  1.000000  "
      ]
     },
     "execution_count": 41,
     "metadata": {},
     "output_type": "execute_result"
    }
   ],
   "source": [
    "df.corr()\n"
   ]
  },
  {
   "cell_type": "code",
   "execution_count": 42,
   "id": "845927ae",
   "metadata": {},
   "outputs": [
    {
     "data": {
      "text/plain": [
       "<Axes: >"
      ]
     },
     "execution_count": 42,
     "metadata": {},
     "output_type": "execute_result"
    },
    {
     "data": {
      "image/png": "[encoded data removed]",
      "text/plain": [
       "<Figure size 1800x500 with 2 Axes>"
      ]
     },
     "metadata": {},
     "output_type": "display_data"
    }
   ],
   "source": [
    "plt.figure(figsize=(18,5))\n",
    "sns.heatmap(df.corr(),annot=True)\n"
   ]
  },
  {
   "cell_type": "markdown",
   "id": "1fefb393",
   "metadata": {},
   "source": [
    "#  Checking the columns which are positivly or negatively related to target variable :-\n"
   ]
  },
  {
   "cell_type": "code",
   "execution_count": 43,
   "id": "65bb3dff",
   "metadata": {},
   "outputs": [
    {
     "data": {
      "image/png": "[encoded data removed]",
      "text/plain": [
       "<Figure size 1800x500 with 1 Axes>"
      ]
     },
     "metadata": {},
     "output_type": "display_data"
    }
   ],
   "source": [
    "plt.figure(figsize=(18,5))\n",
    "df.corr()['AveragePrice'].sort_values(ascending=False).drop(['AveragePrice']).plot(kind='bar',color='c')\n",
    "plt.xlabel('Feature',fontsize=14)\n",
    "plt.ylabel('column with target names',fontsize=14)\n",
    "plt.title('Correlation',fontsize=18)\n",
    "plt.show()\n"
   ]
  },
  {
   "cell_type": "raw",
   "id": "67361cf7",
   "metadata": {},
   "source": [
    "Variables above 0 are positvely related to the target variable.\n",
    "Variables below 0 are negatively related to the target variable.\n"
   ]
  },
  {
   "cell_type": "markdown",
   "id": "508d0b3e",
   "metadata": {},
   "source": [
    "# Checking the skewness of the data\n"
   ]
  },
  {
   "cell_type": "code",
   "execution_count": 44,
   "id": "a5b183c9",
   "metadata": {},
   "outputs": [
    {
     "data": {
      "text/plain": [
       "AveragePrice     0.580303\n",
       "Total Volume     9.007687\n",
       "Small Hass       8.648220\n",
       "Large Hass       8.942466\n",
       "XLarge Hass     10.159396\n",
       "Total Bags       9.756072\n",
       "Small Bags       9.540660\n",
       "Large Bags       9.796455\n",
       "XLarge Bags     13.139751\n",
       "type             0.000329\n",
       "year             0.215339\n",
       "region           0.000030\n",
       "Month            0.047551\n",
       "dtype: float64"
      ]
     },
     "execution_count": 44,
     "metadata": {},
     "output_type": "execute_result"
    }
   ],
   "source": [
    "df.skew()\n"
   ]
  },
  {
   "cell_type": "raw",
   "id": "5d730124",
   "metadata": {},
   "source": [
    "keeping +/- 0.5 as the range for skeness.\n",
    "\n"
   ]
  },
  {
   "cell_type": "code",
   "execution_count": 45,
   "id": "f4ec79dc",
   "metadata": {},
   "outputs": [],
   "source": [
    "x=df.drop('AveragePrice',axis=1)\n",
    "y=df['AveragePrice']\n"
   ]
  },
  {
   "cell_type": "code",
   "execution_count": 46,
   "id": "05dfce69",
   "metadata": {},
   "outputs": [
    {
     "data": {
      "text/html": [
       "<div>\n",
       "<style scoped>\n",
       "    .dataframe tbody tr th:only-of-type {\n",
       "        vertical-align: middle;\n",
       "    }\n",
       "\n",
       "    .dataframe tbody tr th {\n",
       "        vertical-align: top;\n",
       "    }\n",
       "\n",
       "    .dataframe thead th {\n",
       "        text-align: right;\n",
       "    }\n",
       "</style>\n",
       "<table border=\"1\" class=\"dataframe\">\n",
       "  <thead>\n",
       "    <tr style=\"text-align: right;\">\n",
       "      <th></th>\n",
       "      <th>Total Volume</th>\n",
       "      <th>Small Hass</th>\n",
       "      <th>Large Hass</th>\n",
       "      <th>XLarge Hass</th>\n",
       "      <th>Total Bags</th>\n",
       "      <th>Small Bags</th>\n",
       "      <th>Large Bags</th>\n",
       "      <th>XLarge Bags</th>\n",
       "      <th>type</th>\n",
       "      <th>year</th>\n",
       "      <th>region</th>\n",
       "      <th>Month</th>\n",
       "    </tr>\n",
       "  </thead>\n",
       "  <tbody>\n",
       "    <tr>\n",
       "      <th>0</th>\n",
       "      <td>64236.62</td>\n",
       "      <td>1036.74</td>\n",
       "      <td>54454.85</td>\n",
       "      <td>48.16</td>\n",
       "      <td>8696.87</td>\n",
       "      <td>8603.62</td>\n",
       "      <td>93.25</td>\n",
       "      <td>0.0</td>\n",
       "      <td>0</td>\n",
       "      <td>2015</td>\n",
       "      <td>0</td>\n",
       "      <td>12</td>\n",
       "    </tr>\n",
       "    <tr>\n",
       "      <th>1</th>\n",
       "      <td>54876.98</td>\n",
       "      <td>674.28</td>\n",
       "      <td>44638.81</td>\n",
       "      <td>58.33</td>\n",
       "      <td>9505.56</td>\n",
       "      <td>9408.07</td>\n",
       "      <td>97.49</td>\n",
       "      <td>0.0</td>\n",
       "      <td>0</td>\n",
       "      <td>2015</td>\n",
       "      <td>0</td>\n",
       "      <td>12</td>\n",
       "    </tr>\n",
       "    <tr>\n",
       "      <th>2</th>\n",
       "      <td>118220.22</td>\n",
       "      <td>794.70</td>\n",
       "      <td>109149.67</td>\n",
       "      <td>130.50</td>\n",
       "      <td>8145.35</td>\n",
       "      <td>8042.21</td>\n",
       "      <td>103.14</td>\n",
       "      <td>0.0</td>\n",
       "      <td>0</td>\n",
       "      <td>2015</td>\n",
       "      <td>0</td>\n",
       "      <td>12</td>\n",
       "    </tr>\n",
       "    <tr>\n",
       "      <th>3</th>\n",
       "      <td>78992.15</td>\n",
       "      <td>1132.00</td>\n",
       "      <td>71976.41</td>\n",
       "      <td>72.58</td>\n",
       "      <td>5811.16</td>\n",
       "      <td>5677.40</td>\n",
       "      <td>133.76</td>\n",
       "      <td>0.0</td>\n",
       "      <td>0</td>\n",
       "      <td>2015</td>\n",
       "      <td>0</td>\n",
       "      <td>6</td>\n",
       "    </tr>\n",
       "    <tr>\n",
       "      <th>4</th>\n",
       "      <td>51039.60</td>\n",
       "      <td>941.48</td>\n",
       "      <td>43838.39</td>\n",
       "      <td>75.78</td>\n",
       "      <td>6183.95</td>\n",
       "      <td>5986.26</td>\n",
       "      <td>197.69</td>\n",
       "      <td>0.0</td>\n",
       "      <td>0</td>\n",
       "      <td>2015</td>\n",
       "      <td>0</td>\n",
       "      <td>11</td>\n",
       "    </tr>\n",
       "  </tbody>\n",
       "</table>\n",
       "</div>"
      ],
      "text/plain": [
       "   Total Volume  Small Hass  Large Hass  XLarge Hass  Total Bags  Small Bags  \\\n",
       "0      64236.62     1036.74    54454.85        48.16     8696.87     8603.62   \n",
       "1      54876.98      674.28    44638.81        58.33     9505.56     9408.07   \n",
       "2     118220.22      794.70   109149.67       130.50     8145.35     8042.21   \n",
       "3      78992.15     1132.00    71976.41        72.58     5811.16     5677.40   \n",
       "4      51039.60      941.48    43838.39        75.78     6183.95     5986.26   \n",
       "\n",
       "   Large Bags  XLarge Bags  type  year  region  Month  \n",
       "0       93.25          0.0     0  2015       0     12  \n",
       "1       97.49          0.0     0  2015       0     12  \n",
       "2      103.14          0.0     0  2015       0     12  \n",
       "3      133.76          0.0     0  2015       0      6  \n",
       "4      197.69          0.0     0  2015       0     11  "
      ]
     },
     "execution_count": 46,
     "metadata": {},
     "output_type": "execute_result"
    }
   ],
   "source": [
    "x.head()\n"
   ]
  },
  {
   "cell_type": "code",
   "execution_count": 47,
   "id": "d81bef5f",
   "metadata": {},
   "outputs": [
    {
     "data": {
      "text/plain": [
       "(18249, 12)"
      ]
     },
     "execution_count": 47,
     "metadata": {},
     "output_type": "execute_result"
    }
   ],
   "source": [
    "x.shape\n"
   ]
  },
  {
   "cell_type": "code",
   "execution_count": 48,
   "id": "6f05a55d",
   "metadata": {},
   "outputs": [
    {
     "data": {
      "text/plain": [
       "0    1.33\n",
       "1    1.35\n",
       "2    0.93\n",
       "3    1.08\n",
       "4    1.28\n",
       "Name: AveragePrice, dtype: float64"
      ]
     },
     "execution_count": 48,
     "metadata": {},
     "output_type": "execute_result"
    }
   ],
   "source": [
    "y.head()\n"
   ]
  },
  {
   "cell_type": "code",
   "execution_count": 49,
   "id": "9d89774b",
   "metadata": {},
   "outputs": [
    {
     "data": {
      "text/plain": [
       "(18249,)"
      ]
     },
     "execution_count": 49,
     "metadata": {},
     "output_type": "execute_result"
    }
   ],
   "source": [
    "y.shape\n"
   ]
  },
  {
   "cell_type": "markdown",
   "id": "ec3a40f9",
   "metadata": {},
   "source": [
    "# Handling the skewness\n"
   ]
  },
  {
   "cell_type": "code",
   "execution_count": 50,
   "id": "dbde2846",
   "metadata": {},
   "outputs": [
    {
     "data": {
      "text/plain": [
       "Total Volume    0.011171\n",
       "Small Hass     -0.022679\n",
       "Large Hass     -0.017740\n",
       "XLarge Hass     0.032184\n",
       "Total Bags     -0.001626\n",
       "Small Bags      0.007058\n",
       "Large Bags     -0.073809\n",
       "XLarge Bags     0.793520\n",
       "type            0.000329\n",
       "year            0.213156\n",
       "region         -0.261443\n",
       "Month          -0.160972\n",
       "dtype: float64"
      ]
     },
     "execution_count": 50,
     "metadata": {},
     "output_type": "execute_result"
    }
   ],
   "source": [
    "from sklearn.preprocessing import power_transform\n",
    "df_new=power_transform(x)\n",
    "df_new=pd.DataFrame(df_new,columns=x.columns)\n",
    "df_new.skew()\n"
   ]
  },
  {
   "cell_type": "raw",
   "id": "84c59e41",
   "metadata": {},
   "source": [
    "keeping +/- 0.5 as the range for skeness.\n",
    "\n"
   ]
  },
  {
   "cell_type": "code",
   "execution_count": 51,
   "id": "f6bce842",
   "metadata": {},
   "outputs": [
    {
     "data": {
      "text/plain": [
       "AveragePrice    float64\n",
       "Total Volume    float64\n",
       "Small Hass      float64\n",
       "Large Hass      float64\n",
       "XLarge Hass     float64\n",
       "Total Bags      float64\n",
       "Small Bags      float64\n",
       "Large Bags      float64\n",
       "XLarge Bags     float64\n",
       "type              int32\n",
       "year              int64\n",
       "region            int32\n",
       "Month             int64\n",
       "dtype: object"
      ]
     },
     "execution_count": 51,
     "metadata": {},
     "output_type": "execute_result"
    }
   ],
   "source": [
    "df.dtypes\n"
   ]
  },
  {
   "cell_type": "markdown",
   "id": "0eda8d37",
   "metadata": {},
   "source": [
    "# Box-plot graph for the variables :-\n"
   ]
  },
  {
   "cell_type": "code",
   "execution_count": 52,
   "id": "7afc435a",
   "metadata": {},
   "outputs": [
    {
     "data": {
      "image/png": "[encoded data removed]",
      "text/plain": [
       "<Figure size 1200x1000 with 1 Axes>"
      ]
     },
     "metadata": {},
     "output_type": "display_data"
    }
   ],
   "source": [
    "# plotting boxplots for first 5 columns\n",
    "df.iloc[:,0:5].boxplot(figsize=[12,10])\n",
    "plt.subplots_adjust(bottom=0.5)\n",
    "plt.show()\n"
   ]
  },
  {
   "cell_type": "raw",
   "id": "6c9ee220",
   "metadata": {},
   "source": [
    "A huge number of outliers present can be seen in Total volume , Small Hass also some in Avergae Price.\n"
   ]
  },
  {
   "cell_type": "code",
   "execution_count": 53,
   "id": "7e280ec8",
   "metadata": {},
   "outputs": [
    {
     "data": {
      "image/png": "[encoded data removed]",
      "text/plain": [
       "<Figure size 1200x1000 with 1 Axes>"
      ]
     },
     "metadata": {},
     "output_type": "display_data"
    }
   ],
   "source": [
    "# plotting boxplots for first 5 columns\n",
    "df.iloc[:,5:8].boxplot(figsize=[12,10])\n",
    "plt.subplots_adjust(bottom=0.5)\n",
    "plt.show()\n"
   ]
  },
  {
   "cell_type": "raw",
   "id": "5ab89b65",
   "metadata": {},
   "source": [
    "A huge number of outliers present can be seen in Large Hass , XLarge Hass and Total Bags.\n"
   ]
  },
  {
   "cell_type": "code",
   "execution_count": 54,
   "id": "7fa6fc0a",
   "metadata": {},
   "outputs": [
    {
     "data": {
      "image/png": "[encoded data removed]",
      "text/plain": [
       "<Figure size 1200x1000 with 1 Axes>"
      ]
     },
     "metadata": {},
     "output_type": "display_data"
    }
   ],
   "source": [
    "# plotting boxplots for first 5 columns\n",
    "df.iloc[:,8:16].boxplot(figsize=[12,10])\n",
    "plt.subplots_adjust(bottom=0.5)\n",
    "plt.show()"
   ]
  },
  {
   "cell_type": "raw",
   "id": "4d8f72a1",
   "metadata": {},
   "source": [
    "A huge number of outliers present can be seen in Small Bags , Large Bags and XLarge Bags.\n"
   ]
  },
  {
   "cell_type": "code",
   "execution_count": 55,
   "id": "6499cba6",
   "metadata": {},
   "outputs": [
    {
     "data": {
      "text/plain": [
       "(18249, 13)"
      ]
     },
     "execution_count": 55,
     "metadata": {},
     "output_type": "execute_result"
    }
   ],
   "source": [
    "df.shape\n"
   ]
  },
  {
   "cell_type": "markdown",
   "id": "3258b95c",
   "metadata": {},
   "source": [
    "# Handling the outliers :-\n"
   ]
  },
  {
   "cell_type": "code",
   "execution_count": 56,
   "id": "8fd0833f",
   "metadata": {},
   "outputs": [],
   "source": [
    "from numpy import percentile\n",
    "\n",
    "columns = df.columns\n",
    "for j in columns:\n",
    "    if isinstance(df[j][0], str) :\n",
    "        continue\n",
    "    else:\n",
    "        for i in range(len(df)):\n",
    "            #defining quartiles\n",
    "            quartiles = percentile(df[j], [25,75])\n",
    "            # calculate min/max\n",
    "            lower_fence = quartiles[0] - (1.5*(quartiles[1]-quartiles[0]))\n",
    "            upper_fence = quartiles[1] + (1.5*(quartiles[1]-quartiles[0]))\n",
    "            if df[j][i] > upper_fence:\n",
    "                df[j][i] = upper_fence\n",
    "            elif df[j][i] < lower_fence:\n",
    "                df[j][i] = lower_fence\n"
   ]
  },
  {
   "cell_type": "code",
   "execution_count": 57,
   "id": "4a95b260",
   "metadata": {},
   "outputs": [
    {
     "data": {
      "text/html": [
       "<div>\n",
       "<style scoped>\n",
       "    .dataframe tbody tr th:only-of-type {\n",
       "        vertical-align: middle;\n",
       "    }\n",
       "\n",
       "    .dataframe tbody tr th {\n",
       "        vertical-align: top;\n",
       "    }\n",
       "\n",
       "    .dataframe thead th {\n",
       "        text-align: right;\n",
       "    }\n",
       "</style>\n",
       "<table border=\"1\" class=\"dataframe\">\n",
       "  <thead>\n",
       "    <tr style=\"text-align: right;\">\n",
       "      <th></th>\n",
       "      <th>AveragePrice</th>\n",
       "      <th>Total Volume</th>\n",
       "      <th>Small Hass</th>\n",
       "      <th>Large Hass</th>\n",
       "      <th>XLarge Hass</th>\n",
       "      <th>Total Bags</th>\n",
       "      <th>Small Bags</th>\n",
       "      <th>Large Bags</th>\n",
       "      <th>XLarge Bags</th>\n",
       "      <th>type</th>\n",
       "      <th>year</th>\n",
       "      <th>region</th>\n",
       "      <th>Month</th>\n",
       "    </tr>\n",
       "  </thead>\n",
       "  <tbody>\n",
       "    <tr>\n",
       "      <th>0</th>\n",
       "      <td>1.33</td>\n",
       "      <td>64236.62</td>\n",
       "      <td>1036.74</td>\n",
       "      <td>54454.85</td>\n",
       "      <td>48.16</td>\n",
       "      <td>8696.87</td>\n",
       "      <td>8603.62</td>\n",
       "      <td>93.25</td>\n",
       "      <td>0.0</td>\n",
       "      <td>0</td>\n",
       "      <td>2015</td>\n",
       "      <td>0</td>\n",
       "      <td>12</td>\n",
       "    </tr>\n",
       "    <tr>\n",
       "      <th>1</th>\n",
       "      <td>1.35</td>\n",
       "      <td>54876.98</td>\n",
       "      <td>674.28</td>\n",
       "      <td>44638.81</td>\n",
       "      <td>58.33</td>\n",
       "      <td>9505.56</td>\n",
       "      <td>9408.07</td>\n",
       "      <td>97.49</td>\n",
       "      <td>0.0</td>\n",
       "      <td>0</td>\n",
       "      <td>2015</td>\n",
       "      <td>0</td>\n",
       "      <td>12</td>\n",
       "    </tr>\n",
       "    <tr>\n",
       "      <th>2</th>\n",
       "      <td>0.93</td>\n",
       "      <td>118220.22</td>\n",
       "      <td>794.70</td>\n",
       "      <td>109149.67</td>\n",
       "      <td>130.50</td>\n",
       "      <td>8145.35</td>\n",
       "      <td>8042.21</td>\n",
       "      <td>103.14</td>\n",
       "      <td>0.0</td>\n",
       "      <td>0</td>\n",
       "      <td>2015</td>\n",
       "      <td>0</td>\n",
       "      <td>12</td>\n",
       "    </tr>\n",
       "    <tr>\n",
       "      <th>3</th>\n",
       "      <td>1.08</td>\n",
       "      <td>78992.15</td>\n",
       "      <td>1132.00</td>\n",
       "      <td>71976.41</td>\n",
       "      <td>72.58</td>\n",
       "      <td>5811.16</td>\n",
       "      <td>5677.40</td>\n",
       "      <td>133.76</td>\n",
       "      <td>0.0</td>\n",
       "      <td>0</td>\n",
       "      <td>2015</td>\n",
       "      <td>0</td>\n",
       "      <td>6</td>\n",
       "    </tr>\n",
       "    <tr>\n",
       "      <th>4</th>\n",
       "      <td>1.28</td>\n",
       "      <td>51039.60</td>\n",
       "      <td>941.48</td>\n",
       "      <td>43838.39</td>\n",
       "      <td>75.78</td>\n",
       "      <td>6183.95</td>\n",
       "      <td>5986.26</td>\n",
       "      <td>197.69</td>\n",
       "      <td>0.0</td>\n",
       "      <td>0</td>\n",
       "      <td>2015</td>\n",
       "      <td>0</td>\n",
       "      <td>11</td>\n",
       "    </tr>\n",
       "    <tr>\n",
       "      <th>...</th>\n",
       "      <td>...</td>\n",
       "      <td>...</td>\n",
       "      <td>...</td>\n",
       "      <td>...</td>\n",
       "      <td>...</td>\n",
       "      <td>...</td>\n",
       "      <td>...</td>\n",
       "      <td>...</td>\n",
       "      <td>...</td>\n",
       "      <td>...</td>\n",
       "      <td>...</td>\n",
       "      <td>...</td>\n",
       "      <td>...</td>\n",
       "    </tr>\n",
       "    <tr>\n",
       "      <th>18244</th>\n",
       "      <td>1.63</td>\n",
       "      <td>17074.83</td>\n",
       "      <td>2046.96</td>\n",
       "      <td>1529.20</td>\n",
       "      <td>0.00</td>\n",
       "      <td>13498.67</td>\n",
       "      <td>13066.82</td>\n",
       "      <td>431.85</td>\n",
       "      <td>0.0</td>\n",
       "      <td>1</td>\n",
       "      <td>2018</td>\n",
       "      <td>53</td>\n",
       "      <td>4</td>\n",
       "    </tr>\n",
       "    <tr>\n",
       "      <th>18245</th>\n",
       "      <td>1.71</td>\n",
       "      <td>13888.04</td>\n",
       "      <td>1191.70</td>\n",
       "      <td>3431.50</td>\n",
       "      <td>0.00</td>\n",
       "      <td>9264.84</td>\n",
       "      <td>8940.04</td>\n",
       "      <td>324.80</td>\n",
       "      <td>0.0</td>\n",
       "      <td>1</td>\n",
       "      <td>2018</td>\n",
       "      <td>53</td>\n",
       "      <td>1</td>\n",
       "    </tr>\n",
       "    <tr>\n",
       "      <th>18246</th>\n",
       "      <td>1.87</td>\n",
       "      <td>13766.76</td>\n",
       "      <td>1191.92</td>\n",
       "      <td>2452.79</td>\n",
       "      <td>727.94</td>\n",
       "      <td>9394.11</td>\n",
       "      <td>9351.80</td>\n",
       "      <td>42.31</td>\n",
       "      <td>0.0</td>\n",
       "      <td>1</td>\n",
       "      <td>2018</td>\n",
       "      <td>53</td>\n",
       "      <td>1</td>\n",
       "    </tr>\n",
       "    <tr>\n",
       "      <th>18247</th>\n",
       "      <td>1.93</td>\n",
       "      <td>16205.22</td>\n",
       "      <td>1527.63</td>\n",
       "      <td>2981.04</td>\n",
       "      <td>727.01</td>\n",
       "      <td>10969.54</td>\n",
       "      <td>10919.54</td>\n",
       "      <td>50.00</td>\n",
       "      <td>0.0</td>\n",
       "      <td>1</td>\n",
       "      <td>2018</td>\n",
       "      <td>53</td>\n",
       "      <td>1</td>\n",
       "    </tr>\n",
       "    <tr>\n",
       "      <th>18248</th>\n",
       "      <td>1.62</td>\n",
       "      <td>17489.58</td>\n",
       "      <td>2894.77</td>\n",
       "      <td>2356.13</td>\n",
       "      <td>224.53</td>\n",
       "      <td>12014.15</td>\n",
       "      <td>11988.14</td>\n",
       "      <td>26.01</td>\n",
       "      <td>0.0</td>\n",
       "      <td>1</td>\n",
       "      <td>2018</td>\n",
       "      <td>53</td>\n",
       "      <td>7</td>\n",
       "    </tr>\n",
       "  </tbody>\n",
       "</table>\n",
       "<p>18249 rows × 13 columns</p>\n",
       "</div>"
      ],
      "text/plain": [
       "       AveragePrice  Total Volume  Small Hass  Large Hass  XLarge Hass  \\\n",
       "0              1.33      64236.62     1036.74    54454.85        48.16   \n",
       "1              1.35      54876.98      674.28    44638.81        58.33   \n",
       "2              0.93     118220.22      794.70   109149.67       130.50   \n",
       "3              1.08      78992.15     1132.00    71976.41        72.58   \n",
       "4              1.28      51039.60      941.48    43838.39        75.78   \n",
       "...             ...           ...         ...         ...          ...   \n",
       "18244          1.63      17074.83     2046.96     1529.20         0.00   \n",
       "18245          1.71      13888.04     1191.70     3431.50         0.00   \n",
       "18246          1.87      13766.76     1191.92     2452.79       727.94   \n",
       "18247          1.93      16205.22     1527.63     2981.04       727.01   \n",
       "18248          1.62      17489.58     2894.77     2356.13       224.53   \n",
       "\n",
       "       Total Bags  Small Bags  Large Bags  XLarge Bags  type  year  region  \\\n",
       "0         8696.87     8603.62       93.25          0.0     0  2015       0   \n",
       "1         9505.56     9408.07       97.49          0.0     0  2015       0   \n",
       "2         8145.35     8042.21      103.14          0.0     0  2015       0   \n",
       "3         5811.16     5677.40      133.76          0.0     0  2015       0   \n",
       "4         6183.95     5986.26      197.69          0.0     0  2015       0   \n",
       "...           ...         ...         ...          ...   ...   ...     ...   \n",
       "18244    13498.67    13066.82      431.85          0.0     1  2018      53   \n",
       "18245     9264.84     8940.04      324.80          0.0     1  2018      53   \n",
       "18246     9394.11     9351.80       42.31          0.0     1  2018      53   \n",
       "18247    10969.54    10919.54       50.00          0.0     1  2018      53   \n",
       "18248    12014.15    11988.14       26.01          0.0     1  2018      53   \n",
       "\n",
       "       Month  \n",
       "0         12  \n",
       "1         12  \n",
       "2         12  \n",
       "3          6  \n",
       "4         11  \n",
       "...      ...  \n",
       "18244      4  \n",
       "18245      1  \n",
       "18246      1  \n",
       "18247      1  \n",
       "18248      7  \n",
       "\n",
       "[18249 rows x 13 columns]"
      ]
     },
     "execution_count": 57,
     "metadata": {},
     "output_type": "execute_result"
    }
   ],
   "source": [
    "df # improved dataframe\n"
   ]
  },
  {
   "cell_type": "markdown",
   "id": "b48db6eb",
   "metadata": {},
   "source": [
    "# Scaling the data with Min-Max Scaler\n"
   ]
  },
  {
   "cell_type": "code",
   "execution_count": 58,
   "id": "fc3f8059",
   "metadata": {},
   "outputs": [],
   "source": [
    "from sklearn.preprocessing import MinMaxScaler\n",
    "from sklearn.metrics import r2_score\n",
    "mms=MinMaxScaler()\n",
    "lr=LinearRegression()\n"
   ]
  },
  {
   "cell_type": "code",
   "execution_count": 59,
   "id": "c1f4b523",
   "metadata": {},
   "outputs": [
    {
     "name": "stdout",
     "output_type": "stream",
     "text": [
      "At random state 0,the training accuracy is:0.4202002913309013\n",
      "At random state 0,the testing accuracy is :0.42129611971656566 \n",
      "\n",
      "\n",
      "At random state 1,the training accuracy is:0.4181577615355314\n",
      "At random state 1,the testing accuracy is :0.4291529386436951 \n",
      "\n",
      "\n",
      "At random state 2,the training accuracy is:0.42330966263431846\n",
      "At random state 2,the testing accuracy is :0.4109661617217698 \n",
      "\n",
      "\n",
      "At random state 3,the training accuracy is:0.42026292385140174\n",
      "At random state 3,the testing accuracy is :0.42172843766425305 \n",
      "\n",
      "\n",
      "At random state 4,the training accuracy is:0.42425561642288223\n",
      "At random state 4,the testing accuracy is :0.40746058113726236 \n",
      "\n",
      "\n",
      "At random state 5,the training accuracy is:0.42021915088325934\n",
      "At random state 5,the testing accuracy is :0.42104471033444546 \n",
      "\n",
      "\n",
      "At random state 6,the training accuracy is:0.4184959396470579\n",
      "At random state 6,the testing accuracy is :0.4281286824073004 \n",
      "\n",
      "\n",
      "At random state 7,the training accuracy is:0.4214940609106419\n",
      "At random state 7,the testing accuracy is :0.4174836228452984 \n",
      "\n",
      "\n",
      "At random state 8,the training accuracy is:0.42237477437731663\n",
      "At random state 8,the testing accuracy is :0.4139752810585422 \n",
      "\n",
      "\n",
      "At random state 9,the training accuracy is:0.42702880514774255\n",
      "At random state 9,the testing accuracy is :0.3979246346376817 \n",
      "\n",
      "\n",
      "At random state 10,the training accuracy is:0.4198913613961872\n",
      "At random state 10,the testing accuracy is :0.42306255182368746 \n",
      "\n",
      "\n",
      "At random state 11,the training accuracy is:0.42129388077258323\n",
      "At random state 11,the testing accuracy is :0.41797669143092975 \n",
      "\n",
      "\n",
      "At random state 12,the training accuracy is:0.41540671098924886\n",
      "At random state 12,the testing accuracy is :0.43841244787805644 \n",
      "\n",
      "\n",
      "At random state 13,the training accuracy is:0.4259657448710661\n",
      "At random state 13,the testing accuracy is :0.40158208759762337 \n",
      "\n",
      "\n",
      "At random state 14,the training accuracy is:0.41731082603691194\n",
      "At random state 14,the testing accuracy is :0.4317219847110516 \n",
      "\n",
      "\n",
      "At random state 15,the training accuracy is:0.42464316634801524\n",
      "At random state 15,the testing accuracy is :0.40519304123993083 \n",
      "\n",
      "\n",
      "At random state 16,the training accuracy is:0.42054185141052547\n",
      "At random state 16,the testing accuracy is :0.4199712869741392 \n",
      "\n",
      "\n",
      "At random state 17,the training accuracy is:0.4214938165562777\n",
      "At random state 17,the testing accuracy is :0.4173491740530971 \n",
      "\n",
      "\n",
      "At random state 18,the training accuracy is:0.4203998267489383\n",
      "At random state 18,the testing accuracy is :0.42123298404257625 \n",
      "\n",
      "\n",
      "At random state 19,the training accuracy is:0.4255848535891785\n",
      "At random state 19,the testing accuracy is :0.40204175925070373 \n",
      "\n",
      "\n",
      "At random state 20,the training accuracy is:0.41770030837114425\n",
      "At random state 20,the testing accuracy is :0.43031550573761224 \n",
      "\n",
      "\n",
      "At random state 21,the training accuracy is:0.4235124736514213\n",
      "At random state 21,the testing accuracy is :0.4101210615685589 \n",
      "\n",
      "\n",
      "At random state 22,the training accuracy is:0.421409310714408\n",
      "At random state 22,the testing accuracy is :0.4174402109332218 \n",
      "\n",
      "\n",
      "At random state 23,the training accuracy is:0.42242746321719127\n",
      "At random state 23,the testing accuracy is :0.4144983422087706 \n",
      "\n",
      "\n",
      "At random state 24,the training accuracy is:0.42385918271836487\n",
      "At random state 24,the testing accuracy is :0.4089820907041182 \n",
      "\n",
      "\n",
      "At random state 25,the training accuracy is:0.42036146299280663\n",
      "At random state 25,the testing accuracy is :0.42106921079327786 \n",
      "\n",
      "\n",
      "At random state 26,the training accuracy is:0.41943277572049464\n",
      "At random state 26,the testing accuracy is :0.4245969346897178 \n",
      "\n",
      "\n",
      "At random state 27,the training accuracy is:0.4151523877379616\n",
      "At random state 27,the testing accuracy is :0.4401953641578682 \n",
      "\n",
      "\n",
      "At random state 28,the training accuracy is:0.41641952399350457\n",
      "At random state 28,the testing accuracy is :0.4348824306182798 \n",
      "\n",
      "\n",
      "At random state 29,the training accuracy is:0.41964570132664536\n",
      "At random state 29,the testing accuracy is :0.4236242693941408 \n",
      "\n",
      "\n",
      "At random state 30,the training accuracy is:0.4220977489316343\n",
      "At random state 30,the testing accuracy is :0.4151184470802869 \n",
      "\n",
      "\n",
      "At random state 31,the training accuracy is:0.4212728442233009\n",
      "At random state 31,the testing accuracy is :0.41759923303718105 \n",
      "\n",
      "\n",
      "At random state 32,the training accuracy is:0.42545871596009655\n",
      "At random state 32,the testing accuracy is :0.4014261059310962 \n",
      "\n",
      "\n",
      "At random state 33,the training accuracy is:0.4179529498756105\n",
      "At random state 33,the testing accuracy is :0.42947734838387974 \n",
      "\n",
      "\n",
      "At random state 34,the training accuracy is:0.4261756034070352\n",
      "At random state 34,the testing accuracy is :0.4001435869736639 \n",
      "\n",
      "\n",
      "At random state 35,the training accuracy is:0.4226593564258845\n",
      "At random state 35,the testing accuracy is :0.412989057969283 \n",
      "\n",
      "\n",
      "At random state 36,the training accuracy is:0.42652674970895377\n",
      "At random state 36,the testing accuracy is :0.3986878268111539 \n",
      "\n",
      "\n",
      "At random state 37,the training accuracy is:0.4190970907269893\n",
      "At random state 37,the testing accuracy is :0.4256495046044507 \n",
      "\n",
      "\n",
      "At random state 38,the training accuracy is:0.41881608625657996\n",
      "At random state 38,the testing accuracy is :0.4269421058392274 \n",
      "\n",
      "\n",
      "At random state 39,the training accuracy is:0.4238291634250143\n",
      "At random state 39,the testing accuracy is :0.4087417991990424 \n",
      "\n",
      "\n",
      "At random state 40,the training accuracy is:0.4271076893537644\n",
      "At random state 40,the testing accuracy is :0.3955396723121697 \n",
      "\n",
      "\n",
      "At random state 41,the training accuracy is:0.41861258053066064\n",
      "At random state 41,the testing accuracy is :0.4273661484027883 \n",
      "\n",
      "\n",
      "At random state 42,the training accuracy is:0.4236602635291198\n",
      "At random state 42,the testing accuracy is :0.40938984889351726 \n",
      "\n",
      "\n",
      "At random state 43,the training accuracy is:0.42022360301787687\n",
      "At random state 43,the testing accuracy is :0.4215594604685571 \n",
      "\n",
      "\n",
      "At random state 44,the training accuracy is:0.4236394371155209\n",
      "At random state 44,the testing accuracy is :0.4098354134916583 \n",
      "\n",
      "\n",
      "At random state 45,the training accuracy is:0.4259386746970162\n",
      "At random state 45,the testing accuracy is :0.40145355229476143 \n",
      "\n",
      "\n",
      "At random state 46,the training accuracy is:0.4221614798030352\n",
      "At random state 46,the testing accuracy is :0.41490648612210956 \n",
      "\n",
      "\n",
      "At random state 47,the training accuracy is:0.42229864943878137\n",
      "At random state 47,the testing accuracy is :0.4147645577087339 \n",
      "\n",
      "\n",
      "At random state 48,the training accuracy is:0.41780020995042366\n",
      "At random state 48,the testing accuracy is :0.4303919467123487 \n",
      "\n",
      "\n",
      "At random state 49,the training accuracy is:0.4198332569356583\n",
      "At random state 49,the testing accuracy is :0.423158391146929 \n",
      "\n",
      "\n",
      "At random state 50,the training accuracy is:0.4185210544331802\n",
      "At random state 50,the testing accuracy is :0.4274094501259488 \n",
      "\n",
      "\n",
      "At random state 51,the training accuracy is:0.42197285689590514\n",
      "At random state 51,the testing accuracy is :0.415649646041239 \n",
      "\n",
      "\n",
      "At random state 52,the training accuracy is:0.41976162101503334\n",
      "At random state 52,the testing accuracy is :0.4236857216443044 \n",
      "\n",
      "\n",
      "At random state 53,the training accuracy is:0.4209357827711159\n",
      "At random state 53,the testing accuracy is :0.41945769985846415 \n",
      "\n",
      "\n",
      "At random state 54,the training accuracy is:0.42181830054982716\n",
      "At random state 54,the testing accuracy is :0.41429136832929114 \n",
      "\n",
      "\n",
      "At random state 55,the training accuracy is:0.42029051618789903\n",
      "At random state 55,the testing accuracy is :0.42025356682587467 \n",
      "\n",
      "\n",
      "At random state 56,the training accuracy is:0.41751813688616424\n",
      "At random state 56,the testing accuracy is :0.43158435418657615 \n",
      "\n",
      "\n",
      "At random state 57,the training accuracy is:0.4228662110171497\n",
      "At random state 57,the testing accuracy is :0.4123676831788492 \n",
      "\n",
      "\n",
      "At random state 58,the training accuracy is:0.4224889610021866\n",
      "At random state 58,the testing accuracy is :0.41400202333236247 \n",
      "\n",
      "\n",
      "At random state 59,the training accuracy is:0.4212629989014304\n",
      "At random state 59,the testing accuracy is :0.4178569306042347 \n",
      "\n",
      "\n",
      "At random state 60,the training accuracy is:0.41958778598559343\n",
      "At random state 60,the testing accuracy is :0.42397913679821486 \n",
      "\n",
      "\n",
      "At random state 61,the training accuracy is:0.42524410740731244\n",
      "At random state 61,the testing accuracy is :0.40247582921459246 \n",
      "\n",
      "\n",
      "At random state 62,the training accuracy is:0.4193965314670248\n",
      "At random state 62,the testing accuracy is :0.42494119611517467 \n",
      "\n",
      "\n",
      "At random state 63,the training accuracy is:0.4211654116411898\n",
      "At random state 63,the testing accuracy is :0.418659028652256 \n",
      "\n",
      "\n",
      "At random state 64,the training accuracy is:0.42017010455930415\n",
      "At random state 64,the testing accuracy is :0.42231560817079306 \n",
      "\n",
      "\n",
      "At random state 65,the training accuracy is:0.4205592365666976\n",
      "At random state 65,the testing accuracy is :0.420934107016974 \n",
      "\n",
      "\n",
      "At random state 66,the training accuracy is:0.4172572501142733\n",
      "At random state 66,the testing accuracy is :0.43260034338997433 \n",
      "\n",
      "\n",
      "At random state 67,the training accuracy is:0.4219093222853004\n",
      "At random state 67,the testing accuracy is :0.41613460939029157 \n",
      "\n",
      "\n",
      "At random state 68,the training accuracy is:0.42172019613139666\n",
      "At random state 68,the testing accuracy is :0.4163080860340074 \n",
      "\n",
      "\n",
      "At random state 69,the training accuracy is:0.41690567829329017\n",
      "At random state 69,the testing accuracy is :0.4335461361567092 \n",
      "\n",
      "\n",
      "At random state 70,the training accuracy is:0.42071125105649443\n",
      "At random state 70,the testing accuracy is :0.41995946040199605 \n",
      "\n",
      "\n",
      "At random state 71,the training accuracy is:0.41838914723052456\n",
      "At random state 71,the testing accuracy is :0.428378182620181 \n",
      "\n",
      "\n",
      "At random state 72,the training accuracy is:0.42501519454239944\n",
      "At random state 72,the testing accuracy is :0.40467665120803553 \n",
      "\n",
      "\n",
      "At random state 73,the training accuracy is:0.42104841699552953\n",
      "At random state 73,the testing accuracy is :0.41880950301513686 \n",
      "\n",
      "\n",
      "At random state 74,the training accuracy is:0.42032894695901324\n",
      "At random state 74,the testing accuracy is :0.42135112812339814 \n",
      "\n",
      "\n",
      "At random state 75,the training accuracy is:0.4257461997788553\n",
      "At random state 75,the testing accuracy is :0.4026127522827724 \n",
      "\n",
      "\n",
      "At random state 76,the training accuracy is:0.4175032277646078\n",
      "At random state 76,the testing accuracy is :0.43148219725740433 \n",
      "\n",
      "\n",
      "At random state 77,the training accuracy is:0.41477282018218764\n",
      "At random state 77,the testing accuracy is :0.43991542514446436 \n",
      "\n",
      "\n",
      "At random state 78,the training accuracy is:0.41870557466684166\n",
      "At random state 78,the testing accuracy is :0.4271475850683063 \n",
      "\n",
      "\n",
      "At random state 79,the training accuracy is:0.4164071209751068\n",
      "At random state 79,the testing accuracy is :0.43433838545552206 \n",
      "\n",
      "\n",
      "At random state 80,the training accuracy is:0.4239348843590661\n",
      "At random state 80,the testing accuracy is :0.4093723976130902 \n",
      "\n",
      "\n",
      "At random state 81,the training accuracy is:0.42317826563952066\n",
      "At random state 81,the testing accuracy is :0.411006486053923 \n",
      "\n",
      "\n",
      "At random state 82,the training accuracy is:0.4195133080872804\n",
      "At random state 82,the testing accuracy is :0.42465891625724295 \n",
      "\n",
      "\n",
      "At random state 83,the training accuracy is:0.4201995274686565\n",
      "At random state 83,the testing accuracy is :0.42198573208026646 \n",
      "\n",
      "\n",
      "At random state 84,the training accuracy is:0.42255848007522256\n",
      "At random state 84,the testing accuracy is :0.4134022633605994 \n",
      "\n",
      "\n",
      "At random state 85,the training accuracy is:0.41722854707619395\n",
      "At random state 85,the testing accuracy is :0.43221025739975405 \n",
      "\n",
      "\n",
      "At random state 86,the training accuracy is:0.4171193711873923\n",
      "At random state 86,the testing accuracy is :0.4327968192751448 \n",
      "\n",
      "\n",
      "At random state 87,the training accuracy is:0.4217684550916071\n",
      "At random state 87,the testing accuracy is :0.4163400111746096 \n",
      "\n",
      "\n",
      "At random state 88,the training accuracy is:0.41498017254209707\n",
      "At random state 88,the testing accuracy is :0.43924361154069236 \n",
      "\n",
      "\n",
      "At random state 89,the training accuracy is:0.4182377490547673\n",
      "At random state 89,the testing accuracy is :0.42884026477689074 \n",
      "\n",
      "\n",
      "At random state 90,the training accuracy is:0.4246872990679674\n",
      "At random state 90,the testing accuracy is :0.40568779485775786 \n",
      "\n",
      "\n",
      "At random state 91,the training accuracy is:0.4253659377210762\n",
      "At random state 91,the testing accuracy is :0.40334233225543015 \n",
      "\n",
      "\n",
      "At random state 92,the training accuracy is:0.4188873274895367\n",
      "At random state 92,the testing accuracy is :0.4258812331787236 \n",
      "\n",
      "\n",
      "At random state 93,the training accuracy is:0.4236164179437265\n",
      "At random state 93,the testing accuracy is :0.4092171873905225 \n",
      "\n",
      "\n",
      "At random state 94,the training accuracy is:0.4121646996271193\n",
      "At random state 94,the testing accuracy is :0.44994230495648213 \n",
      "\n",
      "\n",
      "At random state 95,the training accuracy is:0.4247880969987129\n",
      "At random state 95,the testing accuracy is :0.40517128839551975 \n",
      "\n",
      "\n",
      "At random state 96,the training accuracy is:0.41857225635191697\n",
      "At random state 96,the testing accuracy is :0.4270692701008346 \n",
      "\n",
      "\n",
      "At random state 97,the training accuracy is:0.42607391307155007\n",
      "At random state 97,the testing accuracy is :0.40155886197431445 \n",
      "\n",
      "\n",
      "At random state 98,the training accuracy is:0.4220615331709091\n",
      "At random state 98,the testing accuracy is :0.415372342863912 \n",
      "\n",
      "\n",
      "At random state 99,the training accuracy is:0.42291139904791053\n",
      "At random state 99,the testing accuracy is :0.41257755540567154 \n",
      "\n",
      "\n"
     ]
    }
   ],
   "source": [
    "for i in range(0,100):\n",
    "    x_train,x_test,y_train,y_test=train_test_split(x,y,test_size=0.22,random_state=i)\n",
    "    lr.fit(x_train,y_train)\n",
    "    pred_train=lr.predict(x_train)\n",
    "    pred_test=lr.predict(x_test)\n",
    "    print(f'At random state {i},the training accuracy is:{r2_score(y_train,pred_train)}')\n",
    "    print(f'At random state {i},the testing accuracy is :{r2_score(y_test,pred_test)} ')\n",
    "    print('\\n')        \n"
   ]
  },
  {
   "cell_type": "code",
   "execution_count": 60,
   "id": "8c6e4651",
   "metadata": {},
   "outputs": [],
   "source": [
    "x_train,x_test,y_train,y_test=train_test_split(x,y,test_size=0.22,random_state=21)\n"
   ]
  },
  {
   "cell_type": "code",
   "execution_count": 61,
   "id": "b8a82e32",
   "metadata": {},
   "outputs": [
    {
     "data": {
      "text/html": [
       "<style>#sk-container-id-1 {color: black;background-color: white;}#sk-container-id-1 pre{padding: 0;}#sk-container-id-1 div.sk-toggleable {background-color: white;}#sk-container-id-1 label.sk-toggleable__label {cursor: pointer;display: block;width: 100%;margin-bottom: 0;padding: 0.3em;box-sizing: border-box;text-align: center;}#sk-container-id-1 label.sk-toggleable__label-arrow:before {content: \"▸\";float: left;margin-right: 0.25em;color: #696969;}#sk-container-id-1 label.sk-toggleable__label-arrow:hover:before {color: black;}#sk-container-id-1 div.sk-estimator:hover label.sk-toggleable__label-arrow:before {color: black;}#sk-container-id-1 div.sk-toggleable__content {max-height: 0;max-width: 0;overflow: hidden;text-align: left;background-color: #f0f8ff;}#sk-container-id-1 div.sk-toggleable__content pre {margin: 0.2em;color: black;border-radius: 0.25em;background-color: #f0f8ff;}#sk-container-id-1 input.sk-toggleable__control:checked~div.sk-toggleable__content {max-height: 200px;max-width: 100%;overflow: auto;}#sk-container-id-1 input.sk-toggleable__control:checked~label.sk-toggleable__label-arrow:before {content: \"▾\";}#sk-container-id-1 div.sk-estimator input.sk-toggleable__control:checked~label.sk-toggleable__label {background-color: #d4ebff;}#sk-container-id-1 div.sk-label input.sk-toggleable__control:checked~label.sk-toggleable__label {background-color: #d4ebff;}#sk-container-id-1 input.sk-hidden--visually {border: 0;clip: rect(1px 1px 1px 1px);clip: rect(1px, 1px, 1px, 1px);height: 1px;margin: -1px;overflow: hidden;padding: 0;position: absolute;width: 1px;}#sk-container-id-1 div.sk-estimator {font-family: monospace;background-color: #f0f8ff;border: 1px dotted black;border-radius: 0.25em;box-sizing: border-box;margin-bottom: 0.5em;}#sk-container-id-1 div.sk-estimator:hover {background-color: #d4ebff;}#sk-container-id-1 div.sk-parallel-item::after {content: \"\";width: 100%;border-bottom: 1px solid gray;flex-grow: 1;}#sk-container-id-1 div.sk-label:hover label.sk-toggleable__label {background-color: #d4ebff;}#sk-container-id-1 div.sk-serial::before {content: \"\";position: absolute;border-left: 1px solid gray;box-sizing: border-box;top: 0;bottom: 0;left: 50%;z-index: 0;}#sk-container-id-1 div.sk-serial {display: flex;flex-direction: column;align-items: center;background-color: white;padding-right: 0.2em;padding-left: 0.2em;position: relative;}#sk-container-id-1 div.sk-item {position: relative;z-index: 1;}#sk-container-id-1 div.sk-parallel {display: flex;align-items: stretch;justify-content: center;background-color: white;position: relative;}#sk-container-id-1 div.sk-item::before, #sk-container-id-1 div.sk-parallel-item::before {content: \"\";position: absolute;border-left: 1px solid gray;box-sizing: border-box;top: 0;bottom: 0;left: 50%;z-index: -1;}#sk-container-id-1 div.sk-parallel-item {display: flex;flex-direction: column;z-index: 1;position: relative;background-color: white;}#sk-container-id-1 div.sk-parallel-item:first-child::after {align-self: flex-end;width: 50%;}#sk-container-id-1 div.sk-parallel-item:last-child::after {align-self: flex-start;width: 50%;}#sk-container-id-1 div.sk-parallel-item:only-child::after {width: 0;}#sk-container-id-1 div.sk-dashed-wrapped {border: 1px dashed gray;margin: 0 0.4em 0.5em 0.4em;box-sizing: border-box;padding-bottom: 0.4em;background-color: white;}#sk-container-id-1 div.sk-label label {font-family: monospace;font-weight: bold;display: inline-block;line-height: 1.2em;}#sk-container-id-1 div.sk-label-container {text-align: center;}#sk-container-id-1 div.sk-container {/* jupyter's `normalize.less` sets `[hidden] { display: none; }` but bootstrap.min.css set `[hidden] { display: none !important; }` so we also need the `!important` here to be able to override the default hidden behavior on the sphinx rendered scikit-learn.org. See: https://github.com/scikit-learn/scikit-learn/issues/21755 */display: inline-block !important;position: relative;}#sk-container-id-1 div.sk-text-repr-fallback {display: none;}</style><div id=\"sk-container-id-1\" class=\"sk-top-container\"><div class=\"sk-text-repr-fallback\"><pre>LinearRegression()</pre><b>In a Jupyter environment, please rerun this cell to show the HTML representation or trust the notebook. <br />On GitHub, the HTML representation is unable to render, please try loading this page with nbviewer.org.</b></div><div class=\"sk-container\" hidden><div class=\"sk-item\"><div class=\"sk-estimator sk-toggleable\"><input class=\"sk-toggleable__control sk-hidden--visually\" id=\"sk-estimator-id-1\" type=\"checkbox\" checked><label for=\"sk-estimator-id-1\" class=\"sk-toggleable__label sk-toggleable__label-arrow\">LinearRegression</label><div class=\"sk-toggleable__content\"><pre>LinearRegression()</pre></div></div></div></div></div>"
      ],
      "text/plain": [
       "LinearRegression()"
      ]
     },
     "execution_count": 61,
     "metadata": {},
     "output_type": "execute_result"
    }
   ],
   "source": [
    "lr.fit(x_train,y_train)\n"
   ]
  },
  {
   "cell_type": "code",
   "execution_count": 62,
   "id": "8207d7c8",
   "metadata": {},
   "outputs": [],
   "source": [
    "pred_test=lr.predict(x_test)\n"
   ]
  },
  {
   "cell_type": "code",
   "execution_count": 63,
   "id": "c3747688",
   "metadata": {},
   "outputs": [
    {
     "name": "stdout",
     "output_type": "stream",
     "text": [
      "0.4101210615685589\n"
     ]
    }
   ],
   "source": [
    "print(r2_score(y_test,pred_test))\n"
   ]
  },
  {
   "cell_type": "code",
   "execution_count": 64,
   "id": "d922823a",
   "metadata": {},
   "outputs": [
    {
     "name": "stdout",
     "output_type": "stream",
     "text": [
      "error :\n",
      "Mean absolute error : 0.23607222284028195\n",
      "Mean squared error : 0.09245154451253315\n",
      "Root Mean Squared Error :  0.30405845574910945\n",
      "r2_score value : 0.4101210615685589\n"
     ]
    }
   ],
   "source": [
    "from sklearn.metrics import mean_squared_error\n",
    "from sklearn.metrics import mean_absolute_error\n",
    "from sklearn.metrics import r2_score\n",
    "print('error :')\n",
    "\n",
    "print('Mean absolute error :',mean_absolute_error(y_test,pred_test))\n",
    "print('Mean squared error :',mean_squared_error(y_test,pred_test))\n",
    "print('Root Mean Squared Error : ',np.sqrt(mean_squared_error(y_test,pred_test)))\n",
    "print('r2_score value :',r2_score(y_test,pred_test))\n"
   ]
  },
  {
   "cell_type": "markdown",
   "id": "fb6a4435",
   "metadata": {},
   "source": [
    "# Testing - Linear Regression with Lasso and Ridge models\n"
   ]
  },
  {
   "cell_type": "code",
   "execution_count": 65,
   "id": "7b409199",
   "metadata": {},
   "outputs": [],
   "source": [
    "from sklearn.linear_model import Lasso,Ridge\n"
   ]
  },
  {
   "cell_type": "code",
   "execution_count": 66,
   "id": "ba71b1ba",
   "metadata": {},
   "outputs": [
    {
     "data": {
      "text/plain": [
       "0.42343078028666026"
      ]
     },
     "execution_count": 66,
     "metadata": {},
     "output_type": "execute_result"
    }
   ],
   "source": [
    "ls=Lasso(alpha=0.0001)\n",
    "# ls=lasso(alpha=0.1) --> default\n",
    "ls.fit(x_train,y_train)\n",
    "ls.score(x_train,y_train)\n"
   ]
  },
  {
   "cell_type": "code",
   "execution_count": 67,
   "id": "89154c97",
   "metadata": {},
   "outputs": [
    {
     "data": {
      "text/plain": [
       "0.4235124736044408"
      ]
     },
     "execution_count": 67,
     "metadata": {},
     "output_type": "execute_result"
    }
   ],
   "source": [
    "Rg=Ridge(alpha=.001)\n",
    "Rg.fit(x_train,y_train)\n",
    "Rg.score(x_train,y_train)\n"
   ]
  },
  {
   "cell_type": "markdown",
   "id": "2c588305",
   "metadata": {},
   "source": [
    "# Cross Validation Score for each model¶\n"
   ]
  },
  {
   "cell_type": "code",
   "execution_count": 71,
   "id": "b5d0ff6f",
   "metadata": {},
   "outputs": [
    {
     "name": "stdout",
     "output_type": "stream",
     "text": [
      "The cross validation score for the Linear Regression model is : -7.162225706669611\n",
      "The difference between accuracy and crossvalidation score is :0.3000567641285938.\n"
     ]
    }
   ],
   "source": [
    "from sklearn.model_selection import cross_val_score\n",
    "\n",
    "scr=cross_val_score(lr,x,y,cv=5)\n",
    "print('The cross validation score for the Linear Regression model is :',scr.mean())\n",
    "print('The difference between accuracy and crossvalidation score is :0.3000567641285938.')\n"
   ]
  },
  {
   "cell_type": "code",
   "execution_count": 72,
   "id": "49be2ed0",
   "metadata": {},
   "outputs": [
    {
     "name": "stdout",
     "output_type": "stream",
     "text": [
      "The cross validation score for the Lasso Regression model is : 0.04040451874960045\n",
      "The difference between accuracy and crossvalidation score is :0.3777567641285938.\n"
     ]
    }
   ],
   "source": [
    "from sklearn.model_selection import cross_val_score\n",
    "\n",
    "scr=cross_val_score(ls,x,y,cv=5)\n",
    "print('The cross validation score for the Lasso Regression model is :',scr.mean())\n",
    "print('The difference between accuracy and crossvalidation score is :0.3777567641285938.')\n"
   ]
  },
  {
   "cell_type": "code",
   "execution_count": 73,
   "id": "94f1fd81",
   "metadata": {},
   "outputs": [
    {
     "name": "stdout",
     "output_type": "stream",
     "text": [
      "The cross validation score for the Ridge Regression model is : -7.955648661809482\n",
      "The difference between accuracy and crossvalidation score is :0.8830430523800308.\n"
     ]
    }
   ],
   "source": [
    "from sklearn.model_selection import cross_val_score\n",
    "\n",
    "scr=cross_val_score(Rg,x,y,cv=5)\n",
    "print('The cross validation score for the Ridge Regression model is :',scr.mean())\n",
    "print('The difference between accuracy and crossvalidation score is :0.8830430523800308.')\n"
   ]
  },
  {
   "cell_type": "raw",
   "id": "14b777f5",
   "metadata": {},
   "source": [
    "The best model will be Linear Regression.\n"
   ]
  },
  {
   "cell_type": "markdown",
   "id": "c5a948f8",
   "metadata": {},
   "source": [
    "# Saving the best model\n"
   ]
  },
  {
   "cell_type": "code",
   "execution_count": 74,
   "id": "940080b9",
   "metadata": {},
   "outputs": [],
   "source": [
    "import pickle\n",
    "\n",
    "filename='pickledtcfile.pkl'\n",
    "pickle.dump(lr,open('pickledtcfile','wb'))\n"
   ]
  },
  {
   "cell_type": "code",
   "execution_count": 75,
   "id": "7218296a",
   "metadata": {},
   "outputs": [
    {
     "data": {
      "text/plain": [
       "array([1.60368004, 1.19295206, 1.16673748, ..., 1.14318724, 1.16019635,\n",
       "       1.64450957])"
      ]
     },
     "execution_count": 75,
     "metadata": {},
     "output_type": "execute_result"
    }
   ],
   "source": [
    "saved_model=pickle.load(open('pickledtcfile','rb'))\n",
    "saved_model.predict(x_test)\n"
   ]
  },
  {
   "cell_type": "code",
   "execution_count": null,
   "id": "b3cb438a",
   "metadata": {},
   "outputs": [],
   "source": []
  }
 ],
 "metadata": {
  "kernelspec": {
   "display_name": "Python 3 (ipykernel)",
   "language": "python",
   "name": "python3"
  },
  "language_info": {
   "codemirror_mode": {
    "name": "ipython",
    "version": 3
   },
   "file_extension": ".py",
   "mimetype": "text/x-python",
   "name": "python",
   "nbconvert_exporter": "python",
   "pygments_lexer": "ipython3",
   "version": "3.11.3"
  }
 },
 "nbformat": 4,
 "nbformat_minor": 5
}
